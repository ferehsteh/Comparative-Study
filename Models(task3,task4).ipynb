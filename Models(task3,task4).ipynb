{
  "nbformat": 4,
  "nbformat_minor": 0,
  "metadata": {
    "colab": {
      "name": "Models(task3,task4).ipynb",
      "provenance": [],
      "collapsed_sections": [],
      "toc_visible": true,
      "machine_shape": "hm"
    },
    "kernelspec": {
      "name": "python3",
      "display_name": "Python 3"
    }
  },
  "cells": [
    {
      "cell_type": "markdown",
      "metadata": {
        "id": "F8Kz2au70KIi",
        "colab_type": "text"
      },
      "source": [
        "### Modeling\n",
        "\n",
        "\n",
        "* Tasks: \n",
        "  * Imlementing the following models: \n",
        "    * KNN\n",
        "    * SVM\n",
        "    * Logistic Regression \n",
        "  * Select the best mode"
      ]
    },
    {
      "cell_type": "markdown",
      "metadata": {
        "id": "TyZqJcjb1qYh",
        "colab_type": "text"
      },
      "source": [
        "### Initialize required library\n"
      ]
    },
    {
      "cell_type": "code",
      "metadata": {
        "id": "uCGsmBHc0Kg8",
        "colab_type": "code",
        "outputId": "f48710be-b4db-4faa-ae11-8747598ef6d8",
        "colab": {
          "base_uri": "https://localhost:8080/",
          "height": 34
        }
      },
      "source": [
        "from google.colab import drive\n",
        "drive.mount('/content/drive')"
      ],
      "execution_count": 0,
      "outputs": [
        {
          "output_type": "stream",
          "text": [
            "Drive already mounted at /content/drive; to attempt to forcibly remount, call drive.mount(\"/content/drive\", force_remount=True).\n"
          ],
          "name": "stdout"
        }
      ]
    },
    {
      "cell_type": "code",
      "metadata": {
        "id": "BHtdStoF0her",
        "colab_type": "code",
        "colab": {}
      },
      "source": [
        "\n",
        "import numpy as np\n",
        "import pandas as pd\n",
        "\n",
        "import matplotlib.pyplot as plt\n",
        "import seaborn as sns\n",
        "from matplotlib.colors import ListedColormap\n",
        "from imblearn.pipeline import make_pipeline\n",
        "from imblearn.base import BaseSampler\n",
        "from collections import Counter\n",
        "from imblearn.over_sampling import SMOTE, RandomOverSampler, ADASYN\n",
        "from sklearn.metrics import classification_report\n",
        "import time\n",
        "\n",
        "# model selectiion\n",
        "from sklearn.model_selection import StratifiedKFold, cross_val_score\n",
        "\n",
        "#knn\n",
        "from sklearn.neighbors import KNeighborsClassifier\n",
        "from sklearn import metrics\n",
        "#svm\n",
        "from sklearn import svm\n",
        "#logestic regression\n",
        "from sklearn.linear_model import LogisticRegression\n",
        "\n"
      ],
      "execution_count": 0,
      "outputs": []
    },
    {
      "cell_type": "markdown",
      "metadata": {
        "id": "tlzhXAtT1_4S",
        "colab_type": "text"
      },
      "source": [
        "### Load data"
      ]
    },
    {
      "cell_type": "code",
      "metadata": {
        "id": "rqmNsYa62DrR",
        "colab_type": "code",
        "colab": {}
      },
      "source": [
        "# Orginal data\n",
        "df_train = pd.read_csv(\"/content/drive/My Drive/ml project/Dr Fereshteh Zargaran Machine Learning Project/dataset/shuttle.trn\", delimiter=' ', header=None)\n",
        "df_test = pd.read_csv(\"/content/drive/My Drive/ml project/Dr Fereshteh Zargaran Machine Learning Project/dataset/shuttle.tst\", delimiter=' ', header=None)\n",
        "\n",
        "X_train, y_train = df_train.iloc[:, :-1], df_train.iloc[:, -1]\n",
        "\n",
        "### train data with removing outlier and doing oversampling\n",
        "X_train_ros = pd.read_csv(\"/content/drive/My Drive/ml project/Dr Fereshteh Zargaran Machine Learning Project/Pre-preocess/X_train_ros\", delimiter=' ', header=None)\n",
        "X_train_adasyn = pd.read_csv(\"/content/drive/My Drive/ml project/Dr Fereshteh Zargaran Machine Learning Project/Pre-preocess/X_train_adasyn\", delimiter=' ', header=None)\n",
        "X_train_smt = pd.read_csv(\"/content/drive/My Drive/ml project/Dr Fereshteh Zargaran Machine Learning Project/Pre-preocess/X_train_smt\", delimiter=' ', header=None)\n",
        "y_train_ros = pd.read_csv(\"/content/drive/My Drive/ml project/Dr Fereshteh Zargaran Machine Learning Project/Pre-preocess/y_train_ros\", delimiter=' ', header=None)\n",
        "y_train_smt = pd.read_csv(\"/content/drive/My Drive/ml project/Dr Fereshteh Zargaran Machine Learning Project/Pre-preocess/y_train_smt\", delimiter=' ', header=None)\n",
        "y_train_adasyn = pd.read_csv(\"/content/drive/My Drive/ml project/Dr Fereshteh Zargaran Machine Learning Project/Pre-preocess/y_train_adasyn\", delimiter=' ', header=None)\n",
        "\n",
        "### test data\n",
        "X_test = pd.read_csv('/content/drive/My Drive/ml project/Dr Fereshteh Zargaran Machine Learning Project/Pre-preocess/X_test', delimiter=' ', header=None)\n",
        "y_test = pd.read_csv('/content/drive/My Drive/ml project/Dr Fereshteh Zargaran Machine Learning Project/Pre-preocess/y_test', delimiter=' ', header=None)\n",
        "\n"
      ],
      "execution_count": 0,
      "outputs": []
    },
    {
      "cell_type": "markdown",
      "metadata": {
        "id": "G2cFOF3fJwW-",
        "colab_type": "text"
      },
      "source": [
        "### Plot Info"
      ]
    },
    {
      "cell_type": "code",
      "metadata": {
        "id": "YCBC8TLjKRfa",
        "colab_type": "code",
        "colab": {}
      },
      "source": [
        "# plot\n",
        "\n",
        "plt.rcParams.update({'font.size': 22})\n",
        "fontdict = {'fontsize': 18,\n",
        "           'weight' : 'bold'}\n",
        "palette = palette=['green','orange','brown','blue', 'red', 'black', 'yellow']\n",
        "sns.set()"
      ],
      "execution_count": 0,
      "outputs": []
    },
    {
      "cell_type": "markdown",
      "metadata": {
        "id": "Cf90lOn9K8kM",
        "colab_type": "text"
      },
      "source": [
        "### Selecting the cross validation partition"
      ]
    },
    {
      "cell_type": "code",
      "metadata": {
        "id": "38ky5sWvK_jW",
        "colab_type": "code",
        "colab": {}
      },
      "source": [
        "skf = StratifiedKFold(n_splits=10, shuffle=True)"
      ],
      "execution_count": 0,
      "outputs": []
    },
    {
      "cell_type": "markdown",
      "metadata": {
        "id": "--1iT9TI9vCY",
        "colab_type": "text"
      },
      "source": [
        "### KNN\n"
      ]
    },
    {
      "cell_type": "code",
      "metadata": {
        "id": "FCqnYesMLSll",
        "colab_type": "code",
        "colab": {}
      },
      "source": [
        "k_range = range(5,10)\n",
        "means_smt = []\n",
        "\n",
        "tic = time.time()\n",
        "for k in k_range:\n",
        "    knn = KNeighborsClassifier(k)\n",
        "    score = cross_val_score(knn, X_train_smt, y_train_smt, cv=skf)\n",
        "    means_smt.append(score.mean())\n",
        "toc = time.time()\n",
        "time_cross_knn_smt = toc - tic\n"
      ],
      "execution_count": 0,
      "outputs": []
    },
    {
      "cell_type": "code",
      "metadata": {
        "id": "OWvvES4miYU4",
        "colab_type": "code",
        "colab": {}
      },
      "source": [
        "k_range = range(5,10)\n",
        "means_ros = []\n",
        "\n",
        "tic = time.time()\n",
        "for k in k_range:\n",
        "    knn = KNeighborsClassifier(k)\n",
        "    score = cross_val_score(knn, X_train_ros, y_train_ros, cv=skf)\n",
        "    means_ros.append(score.mean())\n",
        "toc = time.time()\n",
        "time_cross_knn_ros = toc - tic"
      ],
      "execution_count": 0,
      "outputs": []
    },
    {
      "cell_type": "code",
      "metadata": {
        "id": "Pu_ZE1GjiXwU",
        "colab_type": "code",
        "colab": {}
      },
      "source": [
        "k_range = range(5,10)\n",
        "means_adasyn = []\n",
        "\n",
        "tic = time.time()\n",
        "for k in k_range:\n",
        "    knn = KNeighborsClassifier(k)\n",
        "    score = cross_val_score(knn, X_train_adasyn, y_train_adasyn, cv=skf)\n",
        "    means_adasyn.append(score.mean())\n",
        "toc = time.time()\n",
        "time_cross_knn_adasyn = toc - tic"
      ],
      "execution_count": 0,
      "outputs": []
    },
    {
      "cell_type": "code",
      "metadata": {
        "id": "rF7VSFfLLS-Z",
        "colab_type": "code",
        "colab": {}
      },
      "source": [
        "plt.plot(k_range, means_smt, linestyle='solid', label = \"Smote\")\n",
        "plt.plot(k_range, means_ros, linestyle='dashed', label = \"Random\")\n",
        "plt.plot(k_range, means_adasyn, linestyle='dashdot', label = \"ADASYN\")\n",
        "plt.title(\"Based on Oversampling algorithm\")\n",
        "plt.xlabel('Value of k for KNN')\n",
        "plt.ylabel('Accuracy')\n",
        "plt.legend()\n",
        "plt.show\n",
        "\n"
      ],
      "execution_count": 0,
      "outputs": []
    },
    {
      "cell_type": "code",
      "metadata": {
        "id": "SPVB89UHkdQu",
        "colab_type": "code",
        "colab": {}
      },
      "source": [
        "times = [time_cross_knn_smt, time_cross_knn_ros, time_cross_knn_adasyn]\n",
        "names = ['Smote', 'Random', 'ADASYN']\n",
        "plt.plot(names, times, 'g^')\n",
        "plt.xlabel('Type')\n",
        "plt.ylabel('Time(second)')\n",
        "plt.title('Time of cross validation based on oversampling algorithm')\n",
        "plt.grid(True)\n",
        "plt.show()\n",
        "print(times)\n"
      ],
      "execution_count": 0,
      "outputs": []
    },
    {
      "cell_type": "markdown",
      "metadata": {
        "id": "fSkEt_QFMo2t",
        "colab_type": "text"
      },
      "source": [
        "\n",
        "\n",
        "\n",
        "*   for k = 5: I got the best value for adasyn\n",
        "*   for k = 5: I got the best value for smt\n",
        "*   for k = 5: I got the best value for ros\n"
      ]
    },
    {
      "cell_type": "markdown",
      "metadata": {
        "id": "OxpEFH2EOzZU",
        "colab_type": "text"
      },
      "source": [
        "### SVM"
      ]
    },
    {
      "cell_type": "code",
      "metadata": {
        "id": "Ew54NQ_9P1ht",
        "colab_type": "code",
        "colab": {}
      },
      "source": [
        "\n",
        "C_range = [100, 1]\n",
        "gamma_range = [0.01]\n",
        "means_svm_rbf_smt = []\n",
        "\n",
        "tic = time.time()\n",
        "for C in C_range:\n",
        "    for gamma in gamma_range:\n",
        "        print(C,gamma)\n",
        "        svm_model = svm.SVC(C=C, kernel='rbf', gamma=gamma)\n",
        "        score = cross_val_score(svm_model,X_train_smt, y_train_smt, cv=skf)\n",
        "        means_svm_rbf_smt.append(score.mean())\n",
        "toc = time.time()\n",
        "time_cross_svm_rbf_smt = toc-tic\n"
      ],
      "execution_count": 0,
      "outputs": []
    },
    {
      "cell_type": "code",
      "metadata": {
        "id": "n6D1LguR5Mc-",
        "colab_type": "code",
        "colab": {}
      },
      "source": [
        "C_range = [100, 1]\n",
        "gamma_range = [0.01]\n",
        "means_svm_rbf_ros = []\n",
        "\n",
        "tic = time.time()\n",
        "for C in C_range:\n",
        "    for gamma in gamma_range:\n",
        "        svm_model = svm.SVC(C=C, kernel='rbf', gamma=gamma)\n",
        "        score = cross_val_score(svm_model,X_train_ros, y_train_ros, cv=skf)\n",
        "        means_svm_rbf_ros.append(score.mean())\n",
        "toc = time.time()\n",
        "time_cross_svm_rbf_ros = toc-tic"
      ],
      "execution_count": 0,
      "outputs": []
    },
    {
      "cell_type": "code",
      "metadata": {
        "id": "Du_8YjDY5MNE",
        "colab_type": "code",
        "colab": {}
      },
      "source": [
        "C_range = [100, 1]\n",
        "gamma_range = [0.01]\n",
        "means_svm_rbf_adasyn = []\n",
        "\n",
        "tic = time.time()\n",
        "for C in C_range:\n",
        "    for gamma in gamma_range:\n",
        "        svm_model = svm.SVC(C=C, kernel='rbf', gamma=gamma)\n",
        "        score = cross_val_score(svm_model,X_train_adasyn, y_train_adasyn, cv=skf)\n",
        "        means_svm_rbf_adasyn.append(score.mean())\n",
        "toc = time.time()\n",
        "time_cross_svm_rbf_adasyn = toc-tic"
      ],
      "execution_count": 0,
      "outputs": []
    },
    {
      "cell_type": "code",
      "metadata": {
        "id": "9B-09Bks1pBh",
        "colab_type": "code",
        "colab": {}
      },
      "source": [
        "C_range = [1,3,7]\n",
        "means_linear_smt = []\n",
        "\n",
        "tic = time.time()\n",
        "for C in C_range:\n",
        "        svm_model = svm.SVC(C=C, kernel='linear')\n",
        "        score = cross_val_score(svm_model, X_train_smt, y_train_smt, cv=skf)\n",
        "        means_linear_smt.append(score.mean())\n",
        "toc = time.time()\n",
        "time_cross_svm_smt = toc-tic"
      ],
      "execution_count": 0,
      "outputs": []
    },
    {
      "cell_type": "code",
      "metadata": {
        "id": "kTWz7hc72ZNe",
        "colab_type": "code",
        "colab": {}
      },
      "source": [
        "C_range = [1,3,7]\n",
        "means_linear_ros = []\n",
        "\n",
        "tic = time.time()\n",
        "for C in C_range:\n",
        "        svm_model = svm.SVC(C=C, kernel='linear')\n",
        "        score = cross_val_score(svm_model, X_train_ros, y_train_ros, cv=skf)\n",
        "        means_linear_ros.append(score.mean())\n",
        "toc = time.time()\n",
        "time_cross_svm_ros = toc-tic"
      ],
      "execution_count": 0,
      "outputs": []
    },
    {
      "cell_type": "code",
      "metadata": {
        "id": "Lmlu-t7A2Y7A",
        "colab_type": "code",
        "colab": {}
      },
      "source": [
        "C_range = [1,3,7]\n",
        "means_linear_adasyn = []\n",
        "\n",
        "tic = time.time()\n",
        "for C in C_range:\n",
        "        svm_model = svm.SVC(C=C, kernel='linear')\n",
        "        score = cross_val_score(svm_model, X_train_adasyn, y_train_adasyn, cv=skf)\n",
        "        means_linear_adasyn.append(score.mean())\n",
        "toc = time.time()\n",
        "time_cross_svm_adasyn = toc-tic"
      ],
      "execution_count": 0,
      "outputs": []
    },
    {
      "cell_type": "code",
      "metadata": {
        "id": "xIzBtEL4C1BI",
        "colab_type": "code",
        "colab": {}
      },
      "source": [
        "names = [\"100,0.01\", \"1, 0.01\"]\n",
        "plt.plot(names, means_svm_rbf_smt, linestyle='solid', label = \"Smote\")\n",
        "plt.plot(names, means_svm_rbf_ros, linestyle='dashed', label = \"Random\")\n",
        "plt.plot(names, means_svm_rbf_adasyn, linestyle='dashdot', label = \"ADASYN\")\n",
        "plt.title(\"Based on Oversampling algorithm\")\n",
        "plt.xlabel('Parameters')\n",
        "plt.ylabel('Accuracy')\n",
        "plt.legend()\n",
        "plt.show"
      ],
      "execution_count": 0,
      "outputs": []
    },
    {
      "cell_type": "code",
      "metadata": {
        "id": "jy6Zed2iC5oV",
        "colab_type": "code",
        "colab": {}
      },
      "source": [
        "plt.plot(C_range, means_linear_smt, linestyle='solid', label = \"Smote\")\n",
        "plt.plot(C_range, means_linear_ros, linestyle='dashed', label = \"Random\")\n",
        "plt.plot(C_range, means_linear_adasyn, linestyle='dashdot', label = \"ADASYN\")\n",
        "plt.title(\"Based on Oversampling algorithm\")\n",
        "plt.xlabel('Value of C')\n",
        "plt.ylabel('Accuracy')\n",
        "plt.legend()\n",
        "plt.show"
      ],
      "execution_count": 0,
      "outputs": []
    },
    {
      "cell_type": "code",
      "metadata": {
        "id": "DihmB0sBDxxB",
        "colab_type": "code",
        "colab": {}
      },
      "source": [
        "times = [time_cross_svm_rbf_smt, time_cross_svm_rbf_ros, time_cross_svm_rbf_adasyn]\n",
        "times_linear = [time_cross_svm_smt, time_cross_svm_ros, time_cross_svm_adasyn]\n",
        "names = ['Smote', 'Random', 'ADASYN']\n",
        "plt.plot(names, times, 'g^')\n",
        "plt.plot(names, times_linear, 'bs')\n",
        "plt.xlabel('Type')\n",
        "plt.ylabel('Time(second)')\n",
        "plt.title('Time of cross validation based on oversampling algorithm')\n",
        "plt.grid(True)\n",
        "plt.show()\n",
        "print(times)\n"
      ],
      "execution_count": 0,
      "outputs": []
    },
    {
      "cell_type": "markdown",
      "metadata": {
        "id": "1x0SHmSBVQ4a",
        "colab_type": "text"
      },
      "source": [
        "### Logestic Regression"
      ]
    },
    {
      "cell_type": "code",
      "metadata": {
        "id": "foP3sPsYVV6O",
        "colab_type": "code",
        "colab": {}
      },
      "source": [
        "c_range = range(5,10)\n",
        "means_smt_liblinear_ovr = []\n",
        "\n",
        "tic = time.time()\n",
        "for c in c_range:\n",
        "    lr = LogisticRegression(C=c, random_state=0, solver='liblinear', multi_class='ovr')\n",
        "    score = cross_val_score(lr, X_train_smt, y_train_smt, cv=skf)\n",
        "    means_smt_liblinear_ovr.append(score.mean())\n",
        "toc = time.time()\n",
        "time_cross_means_smt_liblinear_ovr = toc-tic    "
      ],
      "execution_count": 0,
      "outputs": []
    },
    {
      "cell_type": "code",
      "metadata": {
        "id": "2adMzcaIH4Bl",
        "colab_type": "code",
        "colab": {}
      },
      "source": [
        "c_range = range(5,10)\n",
        "means_ros_liblinear_ovr = []\n",
        "\n",
        "tic = time.time()\n",
        "for c in c_range:\n",
        "    lr = LogisticRegression(C=c, random_state=0, solver='liblinear', multi_class='ovr')\n",
        "    score = cross_val_score(lr, X_train_ros, y_train_ros, cv=skf)\n",
        "    means_ros_liblinear_ovr.append(score.mean())\n",
        "toc = time.time()\n",
        "time_cross_means_ros_liblinear_ovr = toc-tic    "
      ],
      "execution_count": 0,
      "outputs": []
    },
    {
      "cell_type": "code",
      "metadata": {
        "id": "sRvUoKZnH4wb",
        "colab_type": "code",
        "colab": {}
      },
      "source": [
        "c_range = range(5,10)\n",
        "means_adasyn_liblinear_ovr = []\n",
        "\n",
        "tic = time.time()\n",
        "for c in c_range:\n",
        "    lr = LogisticRegression(C=c, random_state=0, solver='liblinear', multi_class='ovr')\n",
        "    score = cross_val_score(lr, X_train_adasyn, y_train_adasyn, cv=skf)\n",
        "    means_adasyn_liblinear_ovr.append(score.mean())\n",
        "toc = time.time()\n",
        "time_cross_means_adasyn_liblinear_ovr = toc-tic "
      ],
      "execution_count": 0,
      "outputs": []
    },
    {
      "cell_type": "code",
      "metadata": {
        "id": "HLcj4iEzGhkd",
        "colab_type": "code",
        "colab": {}
      },
      "source": [
        "c_range = range(5,10)\n",
        "means_smt_newton-cg_multinomial = []\n",
        "\n",
        "tic = time.time()\n",
        "for c in c_range:\n",
        "    lr = LogisticRegression(C=c, random_state=0, solver='newton-cg', multi_class='multinomial')\n",
        "    score = cross_val_score(lr, X_train_smt, y_train_smt, cv=skf)\n",
        "    means_smt_newton-cg_multinomial.append(score.mean())\n",
        "toc = time.time()\n",
        "time_cross_means_smt_newton-cg_multinomial = toc-tic   "
      ],
      "execution_count": 0,
      "outputs": []
    },
    {
      "cell_type": "code",
      "metadata": {
        "id": "It02KNZbH7bB",
        "colab_type": "code",
        "colab": {}
      },
      "source": [
        "c_range = range(5,10)\n",
        "means_ros_newton-cg_multinomial = []\n",
        "\n",
        "tic = time.time()\n",
        "for c in c_range:\n",
        "    lr = LogisticRegression(C=c, random_state=0, solver='newton-cg', multi_class='multinomial')\n",
        "    score = cross_val_score(lr, X_train_ros, y_train_ros, cv=skf)\n",
        "    means_ros_newton-cg_multinomial.append(score.mean())\n",
        "toc = time.time()\n",
        "time_cross_means_ros_newton-cg_multinomial = toc-tic "
      ],
      "execution_count": 0,
      "outputs": []
    },
    {
      "cell_type": "code",
      "metadata": {
        "id": "_ZxlNy1yH7Mr",
        "colab_type": "code",
        "colab": {}
      },
      "source": [
        "c_range = range(5,10)\n",
        "means_adasyn_newton-cg_multinomial = []\n",
        "\n",
        "tic = time.time()\n",
        "for c in c_range:\n",
        "    lr = LogisticRegression(C=c, random_state=0, solver='newton-cg', multi_class='multinomial')\n",
        "    score = cross_val_score(lr, X_train_adasyn, y_train_adasyn, cv=skf)\n",
        "    means_adasyn_newton-cg_multinomial.append(score.mean())\n",
        "toc = time.time()\n",
        "time_cross_means_adasyn_newton-cg_multinomial = toc-tic "
      ],
      "execution_count": 0,
      "outputs": []
    },
    {
      "cell_type": "code",
      "metadata": {
        "id": "Ms_R7ykCJ9kn",
        "colab_type": "code",
        "colab": {}
      },
      "source": [
        "plt.plot(c_range, means_smt_liblinear_ovr, linestyle='solid', label = \"Smote\")\n",
        "plt.plot(c_range, means_ros_liblinear_ovr, linestyle='dashed', label = \"Random\")\n",
        "plt.plot(c_range, means_adasyn_liblinear_ovr, linestyle='dashdot', label = \"ADASYN\")\n",
        "plt.title(\"Based on Oversampling algorithm\")\n",
        "plt.xlabel('Value of C')\n",
        "plt.ylabel('Accuracy')\n",
        "plt.legend()\n",
        "plt.show"
      ],
      "execution_count": 0,
      "outputs": []
    },
    {
      "cell_type": "code",
      "metadata": {
        "id": "6sIxlAseKQAb",
        "colab_type": "code",
        "colab": {}
      },
      "source": [
        "plt.plot(c_range, means_smt_newton-cg_multinomial, linestyle='solid', label = \"Smote\")\n",
        "plt.plot(c_range, means_ros_newton-cg_multinomial, linestyle='dashed', label = \"Random\")\n",
        "plt.plot(c_range, means_adasyn_newton-cg_multinomial, linestyle='dashdot', label = \"ADASYN\")\n",
        "plt.title(\"Based on Oversampling algorithm\")\n",
        "plt.xlabel('Value of C')\n",
        "plt.ylabel('Accuracy')\n",
        "plt.legend()\n",
        "plt.show"
      ],
      "execution_count": 0,
      "outputs": []
    },
    {
      "cell_type": "code",
      "metadata": {
        "id": "tb3hRugHKDUc",
        "colab_type": "code",
        "colab": {}
      },
      "source": [
        "times_liblinear_ovr = [time_cross_means_smt_liblinear_ovr, time_cross_means_ros_liblinear_ovr, time_cross_means_adasyn_liblinear_ovr]\n",
        "times_newton-cg_multinomial = [time_cross_means_smt_newton-cg_multinomial, time_cross_means_ros_newton-cg_multinomial, time_cross_means_adasyn_newton-cg_multinomial]\n",
        "names = ['Smote', 'Random', 'ADASYN']\n",
        "plt.plot(names, times_liblinear_ovr, 'g^')\n",
        "plt.plot(names, times_liblinear_multinomial, 'bs')\n",
        "plt.plot(names, times_newton-cg_multinomial, 'ro')\n",
        "plt.xlabel('Type')\n",
        "plt.ylabel('Time(second)')\n",
        "plt.title('Time of cross validation based on oversampling algorithm')\n",
        "plt.grid(True)\n",
        "plt.show()\n",
        "print(times)"
      ],
      "execution_count": 0,
      "outputs": []
    },
    {
      "cell_type": "markdown",
      "metadata": {
        "id": "Z_LmPLTSUt9X",
        "colab_type": "text"
      },
      "source": [
        "### Result of the algorithms in the test base"
      ]
    },
    {
      "cell_type": "code",
      "metadata": {
        "id": "eWh7cYMxUw6s",
        "colab_type": "code",
        "colab": {}
      },
      "source": [
        "#------------------train------------------------------\n",
        "# best params----KNN\n",
        "tic = time.time()\n",
        "knn = KNeighborsClassifier(5)\n",
        "# fit\n",
        "knn.fit(X_train_adasyn, y_train_adasyn)\n",
        "toc = time.time()\n",
        "time_train_knn = toc - tic\n",
        "\n",
        "# best params----SVM\n",
        "tic = time.time()\n",
        "svm_model = svm.SVC(gamma=0.01, kernel='rbf', C=100)\n",
        "# fit\n",
        "svm_model.fit(X_train_adasyn, y_train_adasyn)\n",
        "toc = time.time()\n",
        "time_train_svm = toc - tic\n",
        "\n",
        "# best params----LR\n",
        "tic = time.time()\n",
        "lr = LogisticRegression(C=8, random_state=0, solver='newton-cg', multi_class='multinomial')\n",
        "# fit\n",
        "lr.fit(X_train_adasyn, y_train_adasyn)\n",
        "toc = time.time()\n",
        "time_train_lr = toc - tic\n",
        "\n",
        "#------------------test---------------------------\n",
        "#knn\n",
        "tic = time.time()\n",
        "knn_pred = knn.predict(X_test)\n",
        "toc = time.time()\n",
        "time_test_knn = toc - tic\n",
        "\n",
        "#svm\n",
        "tic = time.time()\n",
        "svm_pred = svm_model.predict(X_test)\n",
        "toc = time.time()\n",
        "time_test_svm = toc - tic\n",
        "\n",
        "#lr\n",
        "tic = time.time()\n",
        "lr_pred = lr.predict(X_test)\n",
        "toc = time.time()\n",
        "time_test_lr = toc - tic\n"
      ],
      "execution_count": 0,
      "outputs": []
    },
    {
      "cell_type": "code",
      "metadata": {
        "id": "JOPV4scSkZz4",
        "colab_type": "code",
        "colab": {}
      },
      "source": [
        "#--------------------comparing time------------------------\n",
        "times = {'knn': [], 'svm': [], 'lr': []}\n",
        "times['knn'].append(time_train_knn)\n",
        "times['knn'].append(time_test_knn)\n",
        "times['svm'].append(time_train_svm)\n",
        "times['svm'].append(time_test_svm)\n",
        "times['lr'].append(time_train_lr)\n",
        "times['lr'].append(time_test_lr)\n",
        "bp = pd.DataFrame([times['knn'], times['svm'], times['lr']]).T\n",
        "bp = bp.rename({0: 'KNN', 1: 'SVM', 2: 'LR'}, axis=1)\n",
        "bp = bp.rename({0: 'Train', 1: 'Test'}, axis=0)\n",
        "bp"
      ],
      "execution_count": 0,
      "outputs": []
    },
    {
      "cell_type": "code",
      "metadata": {
        "id": "M7c7XHg1faPX",
        "colab_type": "code",
        "colab": {}
      },
      "source": [
        "print(\"KNN Classification: \")\n",
        "print(classification_report(knn_pred, y_test))\n",
        "\n",
        "print(\"SVM Classification: \")\n",
        "print(classification_report(svm_pred, y_test))\n",
        "\n",
        "print(\"LR Classification: \")\n",
        "print(classification_report(lr_pred, y_test))"
      ],
      "execution_count": 0,
      "outputs": []
    }
  ]
}