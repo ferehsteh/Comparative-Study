{
  "nbformat": 4,
  "nbformat_minor": 0,
  "metadata": {
    "colab": {
      "name": "Other Model.ipynb",
      "provenance": [],
      "collapsed_sections": [],
      "machine_shape": "hm"
    },
    "kernelspec": {
      "name": "python3",
      "display_name": "Python 3"
    },
    "pycharm": {
      "stem_cell": {
        "cell_type": "raw",
        "source": [],
        "metadata": {
          "collapsed": false
        }
      }
    }
  },
  "cells": [
    {
      "cell_type": "code",
      "metadata": {
        "id": "uCGsmBHc0Kg8",
        "colab_type": "code",
        "colab": {}
      },
      "source": [
        "from sklearn.model_selection import StratifiedShuffleSplit\n",
        "from sklearn.model_selection import GridSearchCV\n",
        "from sklearn.preprocessing import MinMaxScaler\n",
        "\n",
        "import numpy as np\n",
        "import pandas as pd\n",
        "\n",
        "import matplotlib.pyplot as plt\n",
        "import seaborn as sns\n",
        "from matplotlib.colors import ListedColormap\n",
        "from imblearn.pipeline import make_pipeline\n",
        "from imblearn.base import BaseSampler\n",
        "from collections import Counter\n",
        "from imblearn.over_sampling import SMOTE, RandomOverSampler, ADASYN\n",
        "from sklearn.metrics import classification_report\n",
        "import time\n",
        "\n",
        "# model selectiion\n",
        "from sklearn.model_selection import StratifiedKFold, cross_val_score\n",
        "\n",
        "#knn\n",
        "from sklearn.neighbors import KNeighborsClassifier\n",
        "from sklearn import metrics\n",
        "#svm\n",
        "from sklearn import svm\n",
        "#logestic regression\n",
        "from sklearn.linear_model import LogisticRegression\n",
        "\n",
        "\n",
        "\n"
      ],
      "execution_count": 0,
      "outputs": []
    },
    {
      "cell_type": "markdown",
      "metadata": {
        "id": "tlzhXAtT1_4S",
        "colab_type": "text"
      },
      "source": [
        "### Load data"
      ]
    },
    {
      "cell_type": "code",
      "metadata": {
        "id": "rqmNsYa62DrR",
        "colab_type": "code",
        "colab": {}
      },
      "source": [
        "# Orginal data\n",
        "df_train = pd.read_csv(\"./dataset/shuttle.trn\", delimiter=' ', header=None)\n",
        "df_test = pd.read_csv(\"./dataset/shuttle.tst\", delimiter=' ', header=None)\n",
        "\n",
        "X_train, y_train = df_train.iloc[:, :-1], df_train.iloc[:, -1]\n",
        "\n",
        "### train data with removing outlier and doing oversampling\n",
        "X_train_ros = pd.read_csv(\"./Pre-preocess/X_train_ros\", delimiter=' ', header=None)\n",
        "X_train_adasyn = pd.read_csv(\"./Pre-preocess/X_train_adasyn\", delimiter=' ', header=None)\n",
        "X_train_smt = pd.read_csv(\"./Pre-preocess/X_train_smt\", delimiter=' ', header=None)\n",
        "y_train_ros = pd.read_csv(\"./Pre-preocess/y_train_ros\", delimiter=' ', header=None)\n",
        "y_train_smt = pd.read_csv(\"./Pre-preocess/y_train_smt\", delimiter=' ', header=None)\n",
        "y_train_adasyn = pd.read_csv(\"./Pre-preocess/y_train_adasyn\", delimiter=' ', header=None)\n",
        "\n",
        "### test data\n",
        "X_test = pd.read_csv('./Pre-preocess/X_test', delimiter=' ', header=None)\n",
        "y_test = pd.read_csv('./Pre-preocess/y_test', delimiter=' ', header=None)\n",
        "\n"
      ],
      "execution_count": 0,
      "outputs": []
    },
    {
      "cell_type": "markdown",
      "metadata": {
        "id": "eqNP5roYODTZ",
        "colab_type": "text"
      },
      "source": [
        "### Other Model And Resampling\n",
        "\n"
      ]
    },
    {
      "cell_type": "code",
      "metadata": {
        "id": "FJG5-lIbqEGo",
        "colab_type": "code",
        "colab": {}
      },
      "source": [
        "def plot_resampling(X, y, sampling, ax):\n",
        "    X_res, y_res = sampling.fit_resample(X, y)\n",
        "    ax.scatter(X_res[:, 0], X_res[:, 1], c=y_res, alpha=0.8, edgecolor='k')\n",
        "    # make nice plotting\n",
        "    ax.spines['top'].set_visible(False)\n",
        "    ax.spines['right'].set_visible(False)\n",
        "    ax.get_xaxis().tick_bottom()\n",
        "    ax.get_yaxis().tick_left()\n",
        "    ax.spines['left'].set_position(('outward', 10))\n",
        "    ax.spines['bottom'].set_position(('outward', 10))\n",
        "    return Counter(y_res)"
      ],
      "execution_count": 0,
      "outputs": []
    },
    {
      "cell_type": "code",
      "metadata": {
        "id": "pfms1h8IpAP7",
        "colab_type": "code",
        "colab": {}
      },
      "source": [
        "# Make an identity sampler\n",
        "class FakeSampler(BaseSampler):\n",
        "\n",
        "    _sampling_type = 'bypass'\n",
        "\n",
        "    def _fit_resample(self, X, y):\n",
        "        return X, y\n",
        "\n",
        "\n",
        "fig, ((ax1, ax2), (ax3, ax4)) = plt.subplots(2, 2, figsize=(15, 15))\n",
        "sampler = FakeSampler()\n",
        "clf = make_pipeline(sampler, svm.LinearSVC())\n",
        "plot_resampling(X_train, y_train, sampler, ax1)\n",
        "ax1.set_title('Original data - y={}'.format(Counter(y)))\n",
        "\n",
        "ax_arr = (ax2, ax3, ax4)\n",
        "for ax, sampler in zip(ax_arr, (RandomOverSampler(random_state=0),\n",
        "                                SMOTE(random_state=0),\n",
        "                                ADASYN(random_state=0))):\n",
        "    clf = make_pipeline(sampler, svm.LinearSVC())\n",
        "    clf.fit(X_train, y_train)\n",
        "    plot_resampling(X_train, y_train, sampler, ax)\n",
        "    ax.set_title('Resampling using {}'.format(sampler.__class__.__name__))\n",
        "fig.tight_layout()"
      ],
      "execution_count": 0,
      "outputs": []
    },
    {
      "cell_type": "code",
      "metadata": {
        "id": "pBkb_gfgyiTP",
        "colab_type": "code",
        "colab": {}
      },
      "source": [
        "# Model evaluation\n",
        "\n",
        "from matplotlib import pyplot as plt\n",
        "from sklearn.model_selection import StratifiedShuffleSplit\n",
        "from sklearn.metrics import accuracy_score, log_loss\n",
        "from sklearn.neighbors import KNeighborsClassifier\n",
        "from sklearn.svm import SVC\n",
        "from sklearn.tree import DecisionTreeClassifier\n",
        "from sklearn.ensemble import RandomForestClassifier, AdaBoostClassifier, GradientBoostingClassifier\n",
        "from sklearn.naive_bayes import GaussianNB\n",
        "from sklearn.discriminant_analysis import LinearDiscriminantAnalysis, QuadraticDiscriminantAnalysis\n",
        "from sklearn.linear_model import LogisticRegression\n",
        "import seaborn as sns\n",
        "\n",
        "classifiers = [\n",
        "    KNeighborsClassifier(3),\n",
        "    SVC(probability=True, gamma='auto'),\n",
        "    DecisionTreeClassifier(),\n",
        "    RandomForestClassifier(),\n",
        "    AdaBoostClassifier(),\n",
        "    GradientBoostingClassifier(),\n",
        "    GaussianNB(),\n",
        "    LinearDiscriminantAnalysis(),\n",
        "    QuadraticDiscriminantAnalysis(),\n",
        "    LogisticRegression()]\n",
        "\n",
        "log_cols = [\"Classifier\", \"Accuracy\"]\n",
        "log  = pd.DataFrame(columns=log_cols)\n",
        "\n",
        "\n",
        "acc_dict = {}\n",
        "\n",
        "\n",
        "\n",
        "for clf in classifiers:\n",
        "    name = clf.__class__.__name__\n",
        "    clf.fit(X_train, y_train)\n",
        "    train_predictions = clf.predict(X_test)\n",
        "    acc = accuracy_score(y_test, train_predictions)\n",
        "    if name in acc_dict:\n",
        "      acc_dict[name] += acc\n",
        "    else:\n",
        "      acc_dict[name] = acc\n",
        "\n",
        "for clf in acc_dict:\n",
        "    acc_dict[clf] = acc_dict[clf] / 10.0\n",
        "    log_entry = pd.DataFrame([[clf, acc_dict[clf]]], columns=log_cols)\n",
        "    log = log.append(log_entry)\n",
        "\n",
        "plt.xlabel('Accuracy')\n",
        "plt.title('Classifier Accuracy')\n",
        "\n",
        "sns.set_color_codes(\"muted\")\n",
        "sns.barplot(x='Accuracy', y='Classifier', data=log, color=\"b\")\n",
        "plt.show()"
      ],
      "execution_count": 0,
      "outputs": []
    }
  ]
}