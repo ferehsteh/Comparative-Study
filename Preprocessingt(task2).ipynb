{
  "nbformat": 4,
  "nbformat_minor": 0,
  "metadata": {
    "kernelspec": {
      "display_name": "Python 3",
      "language": "python",
      "name": "python3"
    },
    "language_info": {
      "codemirror_mode": {
        "name": "ipython",
        "version": 3
      },
      "file_extension": ".py",
      "mimetype": "text/x-python",
      "name": "python",
      "nbconvert_exporter": "python",
      "pygments_lexer": "ipython3",
      "version": "3.6.8"
    },
    "colab": {
      "name": "Preprocessing.ipynb",
      "provenance": [],
      "collapsed_sections": [],
      "toc_visible": true
    }
  },
  "cells": [
    {
      "cell_type": "markdown",
      "metadata": {
        "id": "nZd-iVv8pGQJ",
        "colab_type": "text"
      },
      "source": [
        "**Pre-Processing**"
      ]
    },
    {
      "cell_type": "code",
      "metadata": {
        "id": "kQpyLuoD9tJr",
        "colab_type": "code",
        "colab": {}
      },
      "source": [
        "from google.colab import drive\n",
        "drive.mount('/content/drive')"
      ],
      "execution_count": 0,
      "outputs": []
    },
    {
      "cell_type": "markdown",
      "metadata": {
        "id": "Pm5pNwtEx67a",
        "colab_type": "text"
      },
      "source": [
        "### Required library"
      ]
    },
    {
      "cell_type": "code",
      "metadata": {
        "scrolled": true,
        "id": "_zVsBd2Lx67b",
        "colab_type": "code",
        "colab": {}
      },
      "source": [
        "import numpy as np\n",
        "import pandas as pd\n",
        "\n",
        "from sklearn.impute import SimpleImputer\n",
        "\n",
        "#zscore / outlier removal\n",
        "from scipy import stats\n",
        "\n",
        "# scale\n",
        "from sklearn.preprocessing import StandardScaler\n",
        "\n",
        "# random oversampling\n",
        "from imblearn.over_sampling import RandomOverSampler, SMOTE, ADASYN\n",
        "from imblearn.under_sampling import RandomUnderSampler\n",
        "\n",
        "# save models\n",
        "from sklearn.externals import joblib "
      ],
      "execution_count": 0,
      "outputs": []
    },
    {
      "cell_type": "markdown",
      "metadata": {
        "id": "giMxCV2Sx67h",
        "colab_type": "text"
      },
      "source": [
        "### Load Data"
      ]
    },
    {
      "cell_type": "code",
      "metadata": {
        "id": "qdf-0hVUx67i",
        "colab_type": "code",
        "colab": {}
      },
      "source": [
        "# Orginal data\n",
        "df_train = pd.read_csv(\"./dataset/shuttle.trn\", delimiter=' ', header=None)\n",
        "df_test = pd.read_csv(\"./dataset/shuttle.tst\", delimiter=' ', header=None)"
      ],
      "execution_count": 0,
      "outputs": []
    },
    {
      "cell_type": "code",
      "metadata": {
        "id": "spg8z91GPeC6",
        "colab_type": "code",
        "colab": {}
      },
      "source": [
        "# rename columns\n",
        "columns = {}\n",
        "names = [(x, 'Var ' + str(x)) for x in df_train.columns]\n",
        "for old, new in names:\n",
        "    columns[old] = new\n",
        "    \n",
        "df_train = df_train.rename(columns=columns)\n",
        "df_train = df_train.rename(columns={'Var 9': 'target'})\n"
      ],
      "execution_count": 0,
      "outputs": []
    },
    {
      "cell_type": "markdown",
      "metadata": {
        "id": "fTt9ArZXltHd",
        "colab_type": "text"
      },
      "source": [
        "### Checking missing data"
      ]
    },
    {
      "cell_type": "code",
      "metadata": {
        "id": "nM8T4efymGpS",
        "colab_type": "code",
        "outputId": "acc477d5-4cde-4f4d-e77e-1319d44a0527",
        "colab": {
          "base_uri": "https://localhost:8080/",
          "height": 34
        }
      },
      "source": [
        "print(df_train.isnull().values.ravel().sum())"
      ],
      "execution_count": 0,
      "outputs": [
        {
          "output_type": "stream",
          "text": [
            "0\n"
          ],
          "name": "stdout"
        }
      ]
    },
    {
      "cell_type": "code",
      "metadata": {
        "id": "QdwDlsmI6qdf",
        "colab_type": "code",
        "outputId": "d5d1a2d3-2c05-4d8e-d4d0-f38ed5ce542f",
        "colab": {
          "base_uri": "https://localhost:8080/",
          "height": 294
        }
      },
      "source": [
        "imputer = SimpleImputer(missing_values=np.nan, strategy='mean')\n",
        "imputer = imputer.fit(df_train)\n",
        "df_train = imputer.transform(df_train)\n",
        "df_train = pd.DataFrame(df_train)\n",
        "df_train.describe()"
      ],
      "execution_count": 0,
      "outputs": [
        {
          "output_type": "execute_result",
          "data": {
            "text/html": [
              "<div>\n",
              "<style scoped>\n",
              "    .dataframe tbody tr th:only-of-type {\n",
              "        vertical-align: middle;\n",
              "    }\n",
              "\n",
              "    .dataframe tbody tr th {\n",
              "        vertical-align: top;\n",
              "    }\n",
              "\n",
              "    .dataframe thead th {\n",
              "        text-align: right;\n",
              "    }\n",
              "</style>\n",
              "<table border=\"1\" class=\"dataframe\">\n",
              "  <thead>\n",
              "    <tr style=\"text-align: right;\">\n",
              "      <th></th>\n",
              "      <th>0</th>\n",
              "      <th>1</th>\n",
              "      <th>2</th>\n",
              "      <th>3</th>\n",
              "      <th>4</th>\n",
              "      <th>5</th>\n",
              "      <th>6</th>\n",
              "      <th>7</th>\n",
              "      <th>8</th>\n",
              "      <th>9</th>\n",
              "    </tr>\n",
              "  </thead>\n",
              "  <tbody>\n",
              "    <tr>\n",
              "      <th>count</th>\n",
              "      <td>43500.000000</td>\n",
              "      <td>43500.000000</td>\n",
              "      <td>43500.000000</td>\n",
              "      <td>43500.000000</td>\n",
              "      <td>43500.000000</td>\n",
              "      <td>43500.000000</td>\n",
              "      <td>43500.000000</td>\n",
              "      <td>43500.000000</td>\n",
              "      <td>43500.000000</td>\n",
              "      <td>43500.000000</td>\n",
              "    </tr>\n",
              "    <tr>\n",
              "      <th>mean</th>\n",
              "      <td>48.249747</td>\n",
              "      <td>-0.205126</td>\n",
              "      <td>85.341563</td>\n",
              "      <td>0.262736</td>\n",
              "      <td>34.528782</td>\n",
              "      <td>1.298276</td>\n",
              "      <td>37.074552</td>\n",
              "      <td>50.899862</td>\n",
              "      <td>13.964598</td>\n",
              "      <td>1.700529</td>\n",
              "    </tr>\n",
              "    <tr>\n",
              "      <th>std</th>\n",
              "      <td>12.252618</td>\n",
              "      <td>78.142770</td>\n",
              "      <td>8.908602</td>\n",
              "      <td>41.004131</td>\n",
              "      <td>21.703409</td>\n",
              "      <td>179.486760</td>\n",
              "      <td>13.135557</td>\n",
              "      <td>21.463250</td>\n",
              "      <td>25.648404</td>\n",
              "      <td>1.354648</td>\n",
              "    </tr>\n",
              "    <tr>\n",
              "      <th>min</th>\n",
              "      <td>27.000000</td>\n",
              "      <td>-4821.000000</td>\n",
              "      <td>21.000000</td>\n",
              "      <td>-3939.000000</td>\n",
              "      <td>-188.000000</td>\n",
              "      <td>-13839.000000</td>\n",
              "      <td>-48.000000</td>\n",
              "      <td>-353.000000</td>\n",
              "      <td>-356.000000</td>\n",
              "      <td>1.000000</td>\n",
              "    </tr>\n",
              "    <tr>\n",
              "      <th>25%</th>\n",
              "      <td>38.000000</td>\n",
              "      <td>0.000000</td>\n",
              "      <td>79.000000</td>\n",
              "      <td>0.000000</td>\n",
              "      <td>26.000000</td>\n",
              "      <td>-5.000000</td>\n",
              "      <td>31.000000</td>\n",
              "      <td>37.000000</td>\n",
              "      <td>0.000000</td>\n",
              "      <td>1.000000</td>\n",
              "    </tr>\n",
              "    <tr>\n",
              "      <th>50%</th>\n",
              "      <td>45.000000</td>\n",
              "      <td>0.000000</td>\n",
              "      <td>83.000000</td>\n",
              "      <td>0.000000</td>\n",
              "      <td>42.000000</td>\n",
              "      <td>0.000000</td>\n",
              "      <td>39.000000</td>\n",
              "      <td>44.000000</td>\n",
              "      <td>2.000000</td>\n",
              "      <td>1.000000</td>\n",
              "    </tr>\n",
              "    <tr>\n",
              "      <th>75%</th>\n",
              "      <td>55.000000</td>\n",
              "      <td>0.000000</td>\n",
              "      <td>89.000000</td>\n",
              "      <td>0.000000</td>\n",
              "      <td>46.000000</td>\n",
              "      <td>5.000000</td>\n",
              "      <td>42.000000</td>\n",
              "      <td>60.000000</td>\n",
              "      <td>14.000000</td>\n",
              "      <td>1.000000</td>\n",
              "    </tr>\n",
              "    <tr>\n",
              "      <th>max</th>\n",
              "      <td>126.000000</td>\n",
              "      <td>5075.000000</td>\n",
              "      <td>149.000000</td>\n",
              "      <td>3830.000000</td>\n",
              "      <td>436.000000</td>\n",
              "      <td>13148.000000</td>\n",
              "      <td>105.000000</td>\n",
              "      <td>270.000000</td>\n",
              "      <td>266.000000</td>\n",
              "      <td>7.000000</td>\n",
              "    </tr>\n",
              "  </tbody>\n",
              "</table>\n",
              "</div>"
            ],
            "text/plain": [
              "                  0             1  ...             8             9\n",
              "count  43500.000000  43500.000000  ...  43500.000000  43500.000000\n",
              "mean      48.249747     -0.205126  ...     13.964598      1.700529\n",
              "std       12.252618     78.142770  ...     25.648404      1.354648\n",
              "min       27.000000  -4821.000000  ...   -356.000000      1.000000\n",
              "25%       38.000000      0.000000  ...      0.000000      1.000000\n",
              "50%       45.000000      0.000000  ...      2.000000      1.000000\n",
              "75%       55.000000      0.000000  ...     14.000000      1.000000\n",
              "max      126.000000   5075.000000  ...    266.000000      7.000000\n",
              "\n",
              "[8 rows x 10 columns]"
            ]
          },
          "metadata": {
            "tags": []
          },
          "execution_count": 52
        }
      ]
    },
    {
      "cell_type": "markdown",
      "metadata": {
        "id": "XJuDoVrjNDhk",
        "colab_type": "text"
      },
      "source": [
        "### Outlier removal\n",
        "   We will use the Z Score to remove the outliers from the classes, so that we can obtain a better intuition with the visualization."
      ]
    },
    {
      "cell_type": "code",
      "metadata": {
        "id": "CjYdBkWRNIdm",
        "colab_type": "code",
        "colab": {}
      },
      "source": [
        "z = np.abs(stats.zscore(df_train[['Var 1', 'Var 3', 'Var 5']]))\n",
        "threshold = 3\n",
        "\n",
        "df_train = df_train.drop(np.where(z > threshold)[0], axis=0)\n",
        "df_train = df_train.drop(np.where(z < -threshold)[0], axis=0)"
      ],
      "execution_count": 0,
      "outputs": []
    },
    {
      "cell_type": "code",
      "metadata": {
        "id": "qLKjR-iZUIXT",
        "colab_type": "code",
        "colab": {}
      },
      "source": [
        "X_train, y_train = df_train.iloc[:, :-1], df_train.iloc[:, -1]\n",
        "X_test, y_test = df_test.iloc[:, :-1], df_test.iloc[:, -1]"
      ],
      "execution_count": 0,
      "outputs": []
    },
    {
      "cell_type": "markdown",
      "metadata": {
        "id": "hG0PlIjYx678",
        "colab_type": "text"
      },
      "source": [
        "### Random OverSampling"
      ]
    },
    {
      "cell_type": "code",
      "metadata": {
        "id": "q-PSG5DPx679",
        "colab_type": "code",
        "colab": {}
      },
      "source": [
        "ros = RandomOverSampler(sampling_strategy='minority', random_state=42)\n",
        "\n",
        "X_ros, y_ros = ros.fit_resample(X_train, y_train)"
      ],
      "execution_count": 0,
      "outputs": []
    },
    {
      "cell_type": "code",
      "metadata": {
        "id": "7KYvxJ6Zx68C",
        "colab_type": "code",
        "outputId": "f9a8d5d8-778f-462b-8881-518d8946adc1",
        "colab": {
          "base_uri": "https://localhost:8080/",
          "height": 34
        }
      },
      "source": [
        "print(X_train.shape[0], X_ros.shape[0])\n"
      ],
      "execution_count": 0,
      "outputs": [
        {
          "output_type": "stream",
          "text": [
            "43364 77362\n"
          ],
          "name": "stdout"
        }
      ]
    },
    {
      "cell_type": "markdown",
      "metadata": {
        "id": "47-LAlsqy8C4",
        "colab_type": "text"
      },
      "source": [
        "### ADASYN OverSampling"
      ]
    },
    {
      "cell_type": "code",
      "metadata": {
        "id": "q2OmkFCPV73t",
        "colab_type": "code",
        "colab": {}
      },
      "source": [
        "adasyn = ADASYN(sampling_strategy='minority',random_state=42)\n",
        "X_adasyn, y_adasyn = adasyn.fit_sample(X_train, y_train)\n"
      ],
      "execution_count": 0,
      "outputs": []
    },
    {
      "cell_type": "code",
      "metadata": {
        "id": "JHfYCW9O7CQB",
        "colab_type": "code",
        "outputId": "40d8f304-9a99-48dd-a1dd-ed7ff7a0d928",
        "colab": {
          "base_uri": "https://localhost:8080/",
          "height": 34
        }
      },
      "source": [
        "print(X_train.shape[0], X_adasyn.shape[0])"
      ],
      "execution_count": 0,
      "outputs": [
        {
          "output_type": "stream",
          "text": [
            "43364 77363\n"
          ],
          "name": "stdout"
        }
      ]
    },
    {
      "cell_type": "markdown",
      "metadata": {
        "id": "_my-anUcx68G",
        "colab_type": "text"
      },
      "source": [
        "### SMOTE OverSampling"
      ]
    },
    {
      "cell_type": "code",
      "metadata": {
        "scrolled": true,
        "id": "fOQqeRpnx68G",
        "colab_type": "code",
        "colab": {}
      },
      "source": [
        "smote = SMOTE(sampling_strategy='minority', random_state=42)\n",
        "X_smt, y_smt = smote.fit_resample(X_train, y_train)\n"
      ],
      "execution_count": 0,
      "outputs": []
    },
    {
      "cell_type": "code",
      "metadata": {
        "id": "aJJ5BlFYyvvU",
        "colab_type": "code",
        "outputId": "f67f40ac-ac23-42a5-a56f-1c3e7cc95f9e",
        "colab": {
          "base_uri": "https://localhost:8080/",
          "height": 34
        }
      },
      "source": [
        "print(X_train.shape[0], y_train.shape[0], X_smt.shape[0], y_smt.shape[0])"
      ],
      "execution_count": 0,
      "outputs": [
        {
          "output_type": "stream",
          "text": [
            "43364 43364 77362 77362\n"
          ],
          "name": "stdout"
        }
      ]
    },
    {
      "cell_type": "markdown",
      "metadata": {
        "id": "VEQwu0zzx68J",
        "colab_type": "text"
      },
      "source": [
        "### Scale"
      ]
    },
    {
      "cell_type": "code",
      "metadata": {
        "id": "dqNYKigOx68K",
        "colab_type": "code",
        "colab": {}
      },
      "source": [
        "scaler = StandardScaler()\n",
        "#Random_OS\n",
        "scaler.fit(X_ros)\n",
        "X_train_ros = scaler.fit_transform(X_ros)\n",
        "#Smote_OS\n",
        "scaler.fit(X_smt)\n",
        "X_train_smt = scaler.fit_transform(X_smt)\n",
        "#ADASYN_OS\n",
        "scaler.fit(X_adasyn)\n",
        "X_train_adasyn = scaler.fit_transform(X_adasyn)\n",
        "\n",
        "X_test = scaler.transform(X_test)\n"
      ],
      "execution_count": 0,
      "outputs": []
    },
    {
      "cell_type": "markdown",
      "metadata": {
        "id": "BMWmN2e4x68R",
        "colab_type": "text"
      },
      "source": [
        "### Save"
      ]
    },
    {
      "cell_type": "code",
      "metadata": {
        "id": "--iZFS3Tx68S",
        "colab_type": "code",
        "colab": {}
      },
      "source": [
        "# save Scaler\n",
        "joblib.dump(scaler, './Pre-preocess/scaler.pkl') \n",
        "\n",
        "# save models\n",
        "np.savetxt('./Pre-preocess/X_ros', X_ros, delimiter=' ')\n",
        "np.savetxt('./Pre-preocess/y_ros', y_ros, delimiter=' ')\n",
        "\n",
        "np.savetxt('./Pre-preocess/X_smt', X_smt, delimiter=' ')\n",
        "np.savetxt('./Pre-preocess/y_smt', y_smt, delimiter=' ')\n",
        "\n",
        "np.savetxt('./Pre-preocess/X_adasyn', X_adasyn, delimiter=' ')\n",
        "np.savetxt('./Pre-preocess/y_adasyn', y_adasyn, delimiter=' ')\n",
        "\n",
        "### train data\n",
        "pd.DataFrame(X_train_adasyn).to_csv('./Pre-preocess/X_train_adasyn', index= False, header=None, sep=' ')\n",
        "pd.DataFrame(X_train_ros).to_csv('./Pre-preocess/X_train_ros', index= False, header=None, sep=' ')\n",
        "pd.DataFrame(X_train_smt).to_csv('./Pre-preocess/X_train_smt', index= False, header=None, sep=' ')\n",
        "pd.DataFrame(y_ros).to_csv('./Pre-preocess/y_train_ros', index=False, header=None, sep=' ')\n",
        "pd.DataFrame(y_smt).to_csv('./Pre-preocess/y_train_smt', index=False, header=None, sep=' ')\n",
        "pd.DataFrame(y_adasyn).to_csv('./Pre-preocess/y_train_adasyn', index=False, header=None, sep=' ')\n",
        "\n",
        "### test data\n",
        "pd.DataFrame(X_test).to_csv('./Pre-preocess/X_test', index= False, header=None, sep=' ')\n",
        "pd.DataFrame(y_test).to_csv('./Pre-preocess/y_test', index=False, header=None, sep=' ')\n"
      ],
      "execution_count": 0,
      "outputs": []
    },
    {
      "cell_type": "code",
      "metadata": {
        "id": "ewwUraaCx68V",
        "colab_type": "code",
        "colab": {}
      },
      "source": [
        ""
      ],
      "execution_count": 0,
      "outputs": []
    }
  ]
}