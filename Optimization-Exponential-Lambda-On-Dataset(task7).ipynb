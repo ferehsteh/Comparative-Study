{
  "nbformat": 4,
  "nbformat_minor": 0,
  "metadata": {
    "kernelspec": {
      "display_name": "Python 3",
      "language": "python",
      "name": "python3"
    },
    "language_info": {
      "codemirror_mode": {
        "name": "ipython",
        "version": 3
      },
      "file_extension": ".py",
      "mimetype": "text/x-python",
      "name": "python",
      "nbconvert_exporter": "python",
      "pygments_lexer": "ipython3",
      "version": "3.6.8"
    },
    "colab": {
      "name": "7.Optimization Exponential Lambda On Dataset.ipynb",
      "provenance": [],
      "collapsed_sections": [],
      "toc_visible": true
    }
  },
  "cells": [
    {
      "cell_type": "markdown",
      "metadata": {
        "id": "WGI98ZH9x6Md",
        "colab_type": "text"
      },
      "source": [
        " Optimization Lambda Parameter for Increese Classifcation Acuracy \n"
      ]
    },
    {
      "cell_type": "code",
      "metadata": {
        "id": "Mcw8xJ-rpkTo",
        "colab_type": "code",
        "outputId": "2a2bf0d7-1310-4311-bc7c-384409faaba3",
        "colab": {
          "base_uri": "https://localhost:8080/",
          "height": 121
        }
      },
      "source": [
        "from google.colab import drive\n",
        "drive.mount('/content/drive')"
      ],
      "execution_count": 0,
      "outputs": [
        {
          "output_type": "stream",
          "text": [
            "Go to this URL in a browser: https://accounts.google.com/o/oauth2/auth?client_id=947318989803-6bn6qk8qdgf4n4g3pfee6491hc0brc4i.apps.googleusercontent.com&redirect_uri=urn%3aietf%3awg%3aoauth%3a2.0%3aoob&response_type=code&scope=email%20https%3a%2f%2fwww.googleapis.com%2fauth%2fdocs.test%20https%3a%2f%2fwww.googleapis.com%2fauth%2fdrive%20https%3a%2f%2fwww.googleapis.com%2fauth%2fdrive.photos.readonly%20https%3a%2f%2fwww.googleapis.com%2fauth%2fpeopleapi.readonly\n",
            "\n",
            "Enter your authorization code:\n",
            "··········\n",
            "Mounted at /content/drive\n"
          ],
          "name": "stdout"
        }
      ]
    },
    {
      "cell_type": "markdown",
      "metadata": {
        "id": "nbjLW4Zl6hMu",
        "colab_type": "text"
      },
      "source": [
        "### Required library\n"
      ]
    },
    {
      "cell_type": "code",
      "metadata": {
        "id": "LVwDoyFAx6Me",
        "colab_type": "code",
        "colab": {}
      },
      "source": [
        "import numpy as np\n",
        "import pandas as pd\n",
        "\n",
        "import matplotlib.pyplot as plt\n",
        "import seaborn as sns\n",
        "from matplotlib.colors import ListedColormap\n",
        "from imblearn.pipeline import make_pipeline\n",
        "from imblearn.base import BaseSampler\n",
        "from collections import Counter\n",
        "from imblearn.over_sampling import SMOTE, RandomOverSampler, ADASYN\n",
        "from sklearn.metrics import classification_report\n",
        "import time\n",
        "\n",
        "# model selectiion\n",
        "from sklearn.model_selection import StratifiedKFold, cross_val_score\n",
        "\n",
        "#knn\n",
        "from sklearn.neighbors import KNeighborsClassifier\n",
        "from sklearn import metrics\n",
        "#svm\n",
        "from sklearn import svm\n",
        "#logestic regression\n",
        "from sklearn.linear_model import LogisticRegression\n",
        "\n",
        "# zscore / outlier removal\n",
        "from scipy import stats"
      ],
      "execution_count": 0,
      "outputs": []
    },
    {
      "cell_type": "markdown",
      "metadata": {
        "id": "Xv2y2UXbx6Mn",
        "colab_type": "text"
      },
      "source": [
        "### Read Data"
      ]
    },
    {
      "cell_type": "code",
      "metadata": {
        "id": "dUTOy5mFx6Mp",
        "colab_type": "code",
        "outputId": "944bf3da-9a3a-4a46-9d83-925d26951158",
        "colab": {
          "base_uri": "https://localhost:8080/",
          "height": 195
        }
      },
      "source": [
        "df_train = pd.read_csv('./dataset/shuttle.trn', delimiter=' ', header=None)\n",
        "\n",
        "\n",
        "X = pd.read_csv('./Pre-preocess/X_ros', delimiter=' ', header=None)\n",
        "y = pd.read_csv('./Pre-preocess/y_ros', delimiter=' ', header=None)\n",
        "y1 = pd.read_csv('./Pre-preocess/y_smt', delimiter=' ', header=None)\n",
        "X_test = pd.read_csv('./Pre-preocess/X_test', delimiter=' ', header=None)\n",
        "y_test = pd.read_csv('./Pre-preocess/y_test', delimiter=' ', header=None)\n",
        "\n",
        "df_train.head()\n"
      ],
      "execution_count": 0,
      "outputs": [
        {
          "output_type": "execute_result",
          "data": {
            "text/html": [
              "<div>\n",
              "<style scoped>\n",
              "    .dataframe tbody tr th:only-of-type {\n",
              "        vertical-align: middle;\n",
              "    }\n",
              "\n",
              "    .dataframe tbody tr th {\n",
              "        vertical-align: top;\n",
              "    }\n",
              "\n",
              "    .dataframe thead th {\n",
              "        text-align: right;\n",
              "    }\n",
              "</style>\n",
              "<table border=\"1\" class=\"dataframe\">\n",
              "  <thead>\n",
              "    <tr style=\"text-align: right;\">\n",
              "      <th></th>\n",
              "      <th>0</th>\n",
              "      <th>1</th>\n",
              "      <th>2</th>\n",
              "      <th>3</th>\n",
              "      <th>4</th>\n",
              "      <th>5</th>\n",
              "      <th>6</th>\n",
              "      <th>7</th>\n",
              "      <th>8</th>\n",
              "      <th>9</th>\n",
              "    </tr>\n",
              "  </thead>\n",
              "  <tbody>\n",
              "    <tr>\n",
              "      <th>0</th>\n",
              "      <td>50</td>\n",
              "      <td>21</td>\n",
              "      <td>77</td>\n",
              "      <td>0</td>\n",
              "      <td>28</td>\n",
              "      <td>0</td>\n",
              "      <td>27</td>\n",
              "      <td>48</td>\n",
              "      <td>22</td>\n",
              "      <td>2</td>\n",
              "    </tr>\n",
              "    <tr>\n",
              "      <th>1</th>\n",
              "      <td>55</td>\n",
              "      <td>0</td>\n",
              "      <td>92</td>\n",
              "      <td>0</td>\n",
              "      <td>0</td>\n",
              "      <td>26</td>\n",
              "      <td>36</td>\n",
              "      <td>92</td>\n",
              "      <td>56</td>\n",
              "      <td>4</td>\n",
              "    </tr>\n",
              "    <tr>\n",
              "      <th>2</th>\n",
              "      <td>53</td>\n",
              "      <td>0</td>\n",
              "      <td>82</td>\n",
              "      <td>0</td>\n",
              "      <td>52</td>\n",
              "      <td>-5</td>\n",
              "      <td>29</td>\n",
              "      <td>30</td>\n",
              "      <td>2</td>\n",
              "      <td>1</td>\n",
              "    </tr>\n",
              "    <tr>\n",
              "      <th>3</th>\n",
              "      <td>37</td>\n",
              "      <td>0</td>\n",
              "      <td>76</td>\n",
              "      <td>0</td>\n",
              "      <td>28</td>\n",
              "      <td>18</td>\n",
              "      <td>40</td>\n",
              "      <td>48</td>\n",
              "      <td>8</td>\n",
              "      <td>1</td>\n",
              "    </tr>\n",
              "    <tr>\n",
              "      <th>4</th>\n",
              "      <td>37</td>\n",
              "      <td>0</td>\n",
              "      <td>79</td>\n",
              "      <td>0</td>\n",
              "      <td>34</td>\n",
              "      <td>-26</td>\n",
              "      <td>43</td>\n",
              "      <td>46</td>\n",
              "      <td>2</td>\n",
              "      <td>1</td>\n",
              "    </tr>\n",
              "  </tbody>\n",
              "</table>\n",
              "</div>"
            ],
            "text/plain": [
              "    0   1   2  3   4   5   6   7   8  9\n",
              "0  50  21  77  0  28   0  27  48  22  2\n",
              "1  55   0  92  0   0  26  36  92  56  4\n",
              "2  53   0  82  0  52  -5  29  30   2  1\n",
              "3  37   0  76  0  28  18  40  48   8  1\n",
              "4  37   0  79  0  34 -26  43  46   2  1"
            ]
          },
          "metadata": {
            "tags": []
          },
          "execution_count": 4
        }
      ]
    },
    {
      "cell_type": "code",
      "metadata": {
        "scrolled": true,
        "id": "mkqQcA_jx6Mz",
        "colab_type": "code",
        "colab": {}
      },
      "source": [
        "\n",
        "df = df_train.iloc[:, 0]\n",
        "print(df.isnull().values.ravel().sum())\n",
        "time=np.asarray(df_train.iloc[:,0])\n",
        "sortedTime = np.sort(time)\n",
        "print(type(sortedTime))\n",
        "df_train.describe()\n",
        "y0_df = df_train\n",
        "y1_df= df_train"
      ],
      "execution_count": 0,
      "outputs": []
    },
    {
      "cell_type": "markdown",
      "metadata": {
        "id": "3Hw0WD2Gx6M3",
        "colab_type": "text"
      },
      "source": [
        "### Simualation Of Data Set lambda0 and lambda1\n"
      ]
    },
    {
      "cell_type": "code",
      "metadata": {
        "id": "CZAIQNQPC6ct",
        "colab_type": "code",
        "outputId": "832b1d91-96cd-4ad3-fdf0-87b43bd475be",
        "colab": {
          "base_uri": "https://localhost:8080/",
          "height": 500
        }
      },
      "source": [
        "\n",
        "x = np.linspace(27, 126, 43500) \n",
        "  \n",
        "# Varying positional arguments \n",
        "y0 = expon.cdf(x, 30, 8) \n",
        "y1 = expon.pdf(x,30.9,4.9) \n",
        "plt.plot(x, y0, \"*\", x, y1, \"r--\") \n",
        "y0_df ['0']= y0\n",
        "y0_df = y0_df.iloc[:, :-1]\n",
        "y1_df ['0']= y1\n",
        "y1_df = y1_df.iloc[:, :-1]\n"
      ],
      "execution_count": 0,
      "outputs": [
        {
          "output_type": "stream",
          "text": [
            "        0   1    2  3   4   5   6   7   8  9\n",
            "0      50  21   77  0  28   0  27  48  22  2\n",
            "1      55   0   92  0   0  26  36  92  56  4\n",
            "2      53   0   82  0  52  -5  29  30   2  1\n",
            "3      37   0   76  0  28  18  40  48   8  1\n",
            "4      37   0   79  0  34 -26  43  46   2  1\n",
            "...    ..  ..  ... ..  ..  ..  ..  ..  .. ..\n",
            "43495  46   5   78  0  46   5  32  32   0  1\n",
            "43496  37   0   79 -1  10   3  43  69  26  1\n",
            "43497  48   0   78  3  46   0  30  32   2  1\n",
            "43498  41   0   79  0  38 -25  38  40   2  1\n",
            "43499  40  -3  100  0  38   0  61  62   2  1\n",
            "\n",
            "[43500 rows x 10 columns]\n"
          ],
          "name": "stdout"
        },
        {
          "output_type": "display_data",
          "data": {
            "image/png": "[encoded data removed]",
            "text/plain": [
              "<Figure size 432x288 with 1 Axes>"
            ]
          },
          "metadata": {
            "tags": [],
            "needs_background": "light"
          }
        }
      ]
    },
    {
      "cell_type": "markdown",
      "metadata": {
        "id": "NzuDG0O-FjNJ",
        "colab_type": "text"
      },
      "source": [
        "### lambda0 Dataset Training Test"
      ]
    },
    {
      "cell_type": "code",
      "metadata": {
        "id": "YetNOb7HFASO",
        "colab_type": "code",
        "colab": {}
      },
      "source": [
        "# best params----KNN\n",
        "X_train, y_train = y0_df.iloc[:, :-1], y0_df.iloc[:, -1]\n",
        "knn = KNeighborsClassifier(5)\n",
        "# fit\n",
        "knn.fit(X_train, y_train)\n",
        "# best params----SVM\n",
        "svm_model = svm.SVC(gamma=0.001, kernel='rbf', C=0.001)\n",
        "# fit\n",
        "svm_model.fit(X_train, y_train)\n",
        "# best params----LR\n",
        "lr = LogisticRegression(solver='liblinear', C=8, random_state=0)\n",
        "# fit\n",
        "lr.fit(X_train, y_train)\n",
        "\n",
        "knn_lambda0_pred = knn.predict(X_test)\n",
        "svm_lambda0_pred = svm_model.predict(X_test)\n",
        "lr_lambda0_pred = lr.predict(X_test)\n"
      ],
      "execution_count": 0,
      "outputs": []
    },
    {
      "cell_type": "markdown",
      "metadata": {
        "id": "P2cIIUqRF3rB",
        "colab_type": "text"
      },
      "source": [
        "### Validtion lambda0\n",
        "\n",
        "```\n",
        "# This is formatted as code\n",
        "```\n",
        "\n",
        " Test"
      ]
    },
    {
      "cell_type": "code",
      "metadata": {
        "id": "R7VtLfXVF7Ox",
        "colab_type": "code",
        "outputId": "2d96aa69-1809-4015-acf2-71b1f0a92c59",
        "colab": {
          "base_uri": "https://localhost:8080/",
          "height": 826
        }
      },
      "source": [
        "print(\"KNN Classification: \")\n",
        "print(classification_report(knn_lambda0_pred, y_test))\n",
        "\n",
        "print(\"SVM Classification: \")\n",
        "print(classification_report(svm_lambda0_pred, y_test))\n",
        "\n",
        "print(\"LR Classification: \")\n",
        "print(classification_report(lr_lambda0_pred, y_test))"
      ],
      "execution_count": 0,
      "outputs": [
        {
          "output_type": "stream",
          "text": [
            "KNN Classification: \n",
            "              precision    recall  f1-score   support\n",
            "\n",
            "           1       1.00      0.79      0.88     14500\n",
            "           2       0.00      0.00      0.00         0\n",
            "           3       0.00      0.00      0.00         0\n",
            "           4       0.00      0.00      0.00         0\n",
            "           5       0.00      0.00      0.00         0\n",
            "           6       0.00      0.00      0.00         0\n",
            "           7       0.00      0.00      0.00         0\n",
            "\n",
            "    accuracy                           0.79     14500\n",
            "   macro avg       0.14      0.11      0.13     14500\n",
            "weighted avg       1.00      0.79      0.88     14500\n",
            "\n",
            "SVM Classification: \n",
            "              precision    recall  f1-score   support\n",
            "\n",
            "           1       1.00      0.79      0.88     14500\n",
            "           2       0.00      0.00      0.00         0\n",
            "           3       0.00      0.00      0.00         0\n",
            "           4       0.00      0.00      0.00         0\n",
            "           5       0.00      0.00      0.00         0\n",
            "           6       0.00      0.00      0.00         0\n",
            "           7       0.00      0.00      0.00         0\n",
            "\n",
            "    accuracy                           0.79     14500\n",
            "   macro avg       0.14      0.11      0.13     14500\n",
            "weighted avg       1.00      0.79      0.88     14500\n",
            "\n",
            "LR Classification: \n",
            "              precision    recall  f1-score   support\n",
            "\n",
            "           1       1.00      0.79      0.88     14500\n",
            "           2       0.00      0.00      0.00         0\n",
            "           3       0.00      0.00      0.00         0\n",
            "           4       0.00      0.00      0.00         0\n",
            "           5       0.00      0.00      0.00         0\n",
            "           6       0.00      0.00      0.00         0\n",
            "           7       0.00      0.00      0.00         0\n",
            "\n",
            "    accuracy                           0.79     14500\n",
            "   macro avg       0.14      0.11      0.13     14500\n",
            "weighted avg       1.00      0.79      0.88     14500\n",
            "\n"
          ],
          "name": "stdout"
        },
        {
          "output_type": "stream",
          "text": [
            "/usr/local/lib/python3.6/dist-packages/sklearn/metrics/_classification.py:1272: UndefinedMetricWarning: Recall and F-score are ill-defined and being set to 0.0 in labels with no true samples. Use `zero_division` parameter to control this behavior.\n",
            "  _warn_prf(average, modifier, msg_start, len(result))\n"
          ],
          "name": "stderr"
        }
      ]
    },
    {
      "cell_type": "markdown",
      "metadata": {
        "id": "UbGBb4OfNSqB",
        "colab_type": "text"
      },
      "source": [
        "### lambda1 Dataset Training Test\n",
        "\n",
        "> Indented block\n",
        "\n"
      ]
    },
    {
      "cell_type": "code",
      "metadata": {
        "id": "tW9OiKKHNegG",
        "colab_type": "code",
        "colab": {}
      },
      "source": [
        "# best params----KNN\n",
        "X_train, y_train = y1_df.iloc[:, :-1], y1_df.iloc[:, -1]\n",
        "\n",
        "knn = KNeighborsClassifier(5)\n",
        "# fit\n",
        "knn.fit(X_train, y_train)\n",
        "\n",
        "# best params----SVM\n",
        "\n",
        "svm_model = svm.SVC(gamma=0.001, kernel='rbf', C=0.001)\n",
        "# fit\n",
        "svm_model.fit(X_train, y_train)\n",
        "\n",
        "\n",
        "# best params----LR\n",
        "\n",
        "lr = LogisticRegression(solver='liblinear', C=8, random_state=0)\n",
        "# fit\n",
        "lr.fit(X_train, y_train)\n",
        "\n",
        "knn_lambda1_pred = knn.predict(X_test)\n",
        "svm_lambda1_pred = svm_model.predict(X_test)\n",
        "lr_lambda1_pred = lr.predict(X_test)\n"
      ],
      "execution_count": 0,
      "outputs": []
    },
    {
      "cell_type": "markdown",
      "metadata": {
        "id": "H5m8p71jNdRJ",
        "colab_type": "text"
      },
      "source": [
        "### Validtion lambda1\n",
        "\n"
      ]
    },
    {
      "cell_type": "code",
      "metadata": {
        "id": "UTmbRs3ROC_M",
        "colab_type": "code",
        "outputId": "042cedcb-0fb7-4eca-88fa-296fc3db46c7",
        "colab": {
          "base_uri": "https://localhost:8080/",
          "height": 826
        }
      },
      "source": [
        "print(\"KNN Classification: \")\n",
        "print(classification_report(knn_lambda1_pred, y_test))\n",
        "\n",
        "print(\"SVM Classification: \")\n",
        "print(classification_report(svm_lambda1_pred, y_test))\n",
        "\n",
        "print(\"LR Classification: \")\n",
        "print(classification_report(lr_lambda1_pred, y_test))"
      ],
      "execution_count": 0,
      "outputs": [
        {
          "output_type": "stream",
          "text": [
            "KNN Classification: \n",
            "              precision    recall  f1-score   support\n",
            "\n",
            "           1       1.00      0.79      0.88     14500\n",
            "           2       0.00      0.00      0.00         0\n",
            "           3       0.00      0.00      0.00         0\n",
            "           4       0.00      0.00      0.00         0\n",
            "           5       0.00      0.00      0.00         0\n",
            "           6       0.00      0.00      0.00         0\n",
            "           7       0.00      0.00      0.00         0\n",
            "\n",
            "    accuracy                           0.79     14500\n",
            "   macro avg       0.14      0.11      0.13     14500\n",
            "weighted avg       1.00      0.79      0.88     14500\n",
            "\n",
            "SVM Classification: \n",
            "              precision    recall  f1-score   support\n",
            "\n",
            "           1       1.00      0.79      0.88     14500\n",
            "           2       0.00      0.00      0.00         0\n",
            "           3       0.00      0.00      0.00         0\n",
            "           4       0.00      0.00      0.00         0\n",
            "           5       0.00      0.00      0.00         0\n",
            "           6       0.00      0.00      0.00         0\n",
            "           7       0.00      0.00      0.00         0\n",
            "\n",
            "    accuracy                           0.79     14500\n",
            "   macro avg       0.14      0.11      0.13     14500\n",
            "weighted avg       1.00      0.79      0.88     14500\n",
            "\n",
            "LR Classification: \n",
            "              precision    recall  f1-score   support\n",
            "\n",
            "           1       1.00      0.79      0.88     14500\n",
            "           2       0.00      0.00      0.00         0\n",
            "           3       0.00      0.00      0.00         0\n",
            "           4       0.00      0.00      0.00         0\n",
            "           5       0.00      0.00      0.00         0\n",
            "           6       0.00      0.00      0.00         0\n",
            "           7       0.00      0.00      0.00         0\n",
            "\n",
            "    accuracy                           0.79     14500\n",
            "   macro avg       0.14      0.11      0.13     14500\n",
            "weighted avg       1.00      0.79      0.88     14500\n",
            "\n"
          ],
          "name": "stdout"
        },
        {
          "output_type": "stream",
          "text": [
            "/usr/local/lib/python3.6/dist-packages/sklearn/metrics/_classification.py:1272: UndefinedMetricWarning: Recall and F-score are ill-defined and being set to 0.0 in labels with no true samples. Use `zero_division` parameter to control this behavior.\n",
            "  _warn_prf(average, modifier, msg_start, len(result))\n"
          ],
          "name": "stderr"
        }
      ]
    }
  ]
}