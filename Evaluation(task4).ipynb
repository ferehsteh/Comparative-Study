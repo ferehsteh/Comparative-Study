{
 "nbformat": 4,
 "nbformat_minor": 0,
 "metadata": {
  "kernelspec": {
   "display_name": "Python 3",
   "language": "python",
   "name": "python3"
  },
  "language_info": {
   "codemirror_mode": {
    "name": "ipython",
    "version": 3
   },
   "file_extension": ".py",
   "mimetype": "text/x-python",
   "name": "python",
   "nbconvert_exporter": "python",
   "pygments_lexer": "ipython3",
   "version": "3.6.8"
  },
  "colab": {
   "name": "Evaluation.ipynb",
   "provenance": []
  },
  "pycharm": {
   "stem_cell": {
    "cell_type": "raw",
    "source": [
     "#%"
    ],
    "metadata": {
     "collapsed": false
    }
   }
  }
 },
 "cells": [
  {
   "cell_type": "code",
   "execution_count": null,
   "outputs": [],
   "source": [
    "import numpy as np\n",
    "import pandas as pd\n",
    "\n",
    "# scale\n",
    "from sklearn.preprocessing import StandardScaler\n",
    "\n",
    "# model selectiion\n",
    "from sklearn.model_selection import StratifiedKFold, cross_val_score\n",
    "\n",
    "#knn\n",
    "from sklearn.neighbors import KNeighborsClassifier\n",
    "\n",
    "#svm\n",
    "from sklearn import svm\n",
    "\n",
    "#logestic regression\n",
    "from sklearn.linear_model import LogisticRegression\n",
    "\n",
    "# metrics\n",
    "from sklearn.metrics import accuracy_score, classification_report\n",
    "\n",
    "# load/save models\n",
    "from sklearn.externals import joblib\n",
    "\n",
    "# signed wilcoxon test\n",
    "\n",
    "from scipy.stats import wilcoxon"
   ],
   "metadata": {
    "collapsed": false,
    "pycharm": {
     "name": "#%%\n"
    }
   }
  },
  {
   "cell_type": "code",
   "metadata": {
    "id": "HhPDQeyybpAi",
    "colab_type": "code",
    "colab": {}
   },
   "source": [
    "# plot\n",
    "import matplotlib.pyplot as plt\n",
    "import seaborn as sns\n",
    "\n",
    "plt.rcParams['figure.figsize'] = [15, 10]\n",
    "plt.rcParams.update({'font.size': 22})\n",
    "fontdict = {'fontsize': 18,\n",
    "           'weight' : 'bold'}\n",
    "palette = palette=['green','orange','brown','blue', 'red', 'black', 'yellow']\n",
    "sns.set()"
   ],
   "execution_count": 0,
   "outputs": []
  },
  {
   "cell_type": "markdown",
   "metadata": {
    "id": "_pyHdxUHbpAn",
    "colab_type": "text"
   },
   "source": [
    "### load data"
   ]
  },
  {
   "cell_type": "code",
   "metadata": {
    "id": "FriyblcsbpAo",
    "colab_type": "code",
    "colab": {}
   },
   "source": [
    "# Orginal data\n",
    "df_train = pd.read_csv(\"./dataset/shuttle.trn\", delimiter=' ', header=None)\n",
    "df_test = pd.read_csv(\"./dataset/shuttle.tst\", delimiter=' ', header=None)\n",
    "\n",
    "X_train, y_train = df_train.iloc[:, :-1], df_train.iloc[:, -1]\n",
    "\n",
    "### train data with removing outlier and doing oversampling\n",
    "X_train_adasyn = pd.read_csv(\"./Pre-preocess/X_train_adasyn\", delimiter=' ', header=None)\n",
    "y_train_adasyn = pd.read_csv(\"./Pre-preocess/y_train_adasyn\", delimiter=' ', header=None)\n",
    "\n",
    "### test data\n",
    "X_test = pd.read_csv('./Pre-preocess/X_test', delimiter=' ', header=None)\n",
    "y_test = pd.read_csv('./Pre-preocess/y_test', delimiter=' ', header=None)"
   ],
   "execution_count": 0,
   "outputs": []
  },
  {
   "cell_type": "markdown",
   "metadata": {
    "id": "pHWO3wK2bpAt",
    "colab_type": "text"
   },
   "source": [
    "### Compare"
   ]
  },
  {
   "cell_type": "code",
   "metadata": {
    "scrolled": true,
    "id": "bqoFwS23bpAu",
    "colab_type": "code",
    "outputId": "bdcdce45-450e-47f0-d147-8d7d8f14a413",
    "executionInfo": {
     "status": "ok",
     "timestamp": 1589274953065,
     "user_tz": -270,
     "elapsed": 1609446,
     "user": {
      "displayName": "Fereshteh Zargaran",
      "photoUrl": "https://lh3.googleusercontent.com/a-/AOh14GjrmC1zfVwCEVT132MOlEJfj1XqVkihDOVuzyc7lg=s64",
      "userId": "07497554535860146577"
     }
    },
    "colab": {
     "base_uri": "https://localhost:8080/",
     "height": 1000
    }
   },
   "source": [
    "means = {'knn': [], 'svm': [], 'lr': []}\n",
    "\n",
    "for i in range(10):\n",
    "    print(\"Step: \", i)\n",
    "    print(means)\n",
    "    # clfs\n",
    "    knn = KNeighborsClassifier(5)\n",
    "    svm_model = svm.SVC(gamma=0.01, kernel='rbf', C=100)\n",
    "    lr = LogisticRegression(C=8, random_state=0, solver='newton-cg', multi_class='multinomial')\n",
    "    # kfold\n",
    "    random_state = np.random.randint(2000)\n",
    "    kfold = StratifiedKFold(n_splits=10, shuffle=True, random_state=random_state)\n",
    "    \n",
    "    print('KNN')\n",
    "    means['knn'].append(cross_val_score(knn, X_train_adasyn, y_train_adasyn, cv=kfold).mean())\n",
    "    print('SVM')\n",
    "    means['svm'].append(cross_val_score(svm_model, X_train_adasyn, y_train_adasyn, cv=kfold, n_jobs=2).mean())\n",
    "    print('LR')\n",
    "    means['lr'].append(cross_val_score(lr, X_train_adasyn, y_train_adasyn, cv=kfold, n_jobs=3).mean())\n",
    "    print(means)"
   ],
   "execution_count": 10,
   "outputs": [
    {
     "output_type": "stream",
     "text": [
      "Step:  0\n",
      "{'knn': [], 'svm': [], 'lr': []}\n",
      "KNN\n"
     ],
     "name": "stdout"
    },
    {
     "output_type": "stream",
     "text": [
      "/usr/local/lib/python3.6/dist-packages/sklearn/model_selection/_validation.py:515: DataConversionWarning: A column-vector y was passed when a 1d array was expected. Please change the shape of y to (n_samples, ), for example using ravel().\n",
      "  estimator.fit(X_train, y_train, **fit_params)\n",
      "/usr/local/lib/python3.6/dist-packages/sklearn/model_selection/_validation.py:515: DataConversionWarning: A column-vector y was passed when a 1d array was expected. Please change the shape of y to (n_samples, ), for example using ravel().\n",
      "  estimator.fit(X_train, y_train, **fit_params)\n",
      "/usr/local/lib/python3.6/dist-packages/sklearn/model_selection/_validation.py:515: DataConversionWarning: A column-vector y was passed when a 1d array was expected. Please change the shape of y to (n_samples, ), for example using ravel().\n",
      "  estimator.fit(X_train, y_train, **fit_params)\n",
      "/usr/local/lib/python3.6/dist-packages/sklearn/model_selection/_validation.py:515: DataConversionWarning: A column-vector y was passed when a 1d array was expected. Please change the shape of y to (n_samples, ), for example using ravel().\n",
      "  estimator.fit(X_train, y_train, **fit_params)\n",
      "/usr/local/lib/python3.6/dist-packages/sklearn/model_selection/_validation.py:515: DataConversionWarning: A column-vector y was passed when a 1d array was expected. Please change the shape of y to (n_samples, ), for example using ravel().\n",
      "  estimator.fit(X_train, y_train, **fit_params)\n",
      "/usr/local/lib/python3.6/dist-packages/sklearn/model_selection/_validation.py:515: DataConversionWarning: A column-vector y was passed when a 1d array was expected. Please change the shape of y to (n_samples, ), for example using ravel().\n",
      "  estimator.fit(X_train, y_train, **fit_params)\n",
      "/usr/local/lib/python3.6/dist-packages/sklearn/model_selection/_validation.py:515: DataConversionWarning: A column-vector y was passed when a 1d array was expected. Please change the shape of y to (n_samples, ), for example using ravel().\n",
      "  estimator.fit(X_train, y_train, **fit_params)\n",
      "/usr/local/lib/python3.6/dist-packages/sklearn/model_selection/_validation.py:515: DataConversionWarning: A column-vector y was passed when a 1d array was expected. Please change the shape of y to (n_samples, ), for example using ravel().\n",
      "  estimator.fit(X_train, y_train, **fit_params)\n",
      "/usr/local/lib/python3.6/dist-packages/sklearn/model_selection/_validation.py:515: DataConversionWarning: A column-vector y was passed when a 1d array was expected. Please change the shape of y to (n_samples, ), for example using ravel().\n",
      "  estimator.fit(X_train, y_train, **fit_params)\n",
      "/usr/local/lib/python3.6/dist-packages/sklearn/model_selection/_validation.py:515: DataConversionWarning: A column-vector y was passed when a 1d array was expected. Please change the shape of y to (n_samples, ), for example using ravel().\n",
      "  estimator.fit(X_train, y_train, **fit_params)\n"
     ],
     "name": "stderr"
    },
    {
     "output_type": "stream",
     "text": [
      "SVM\n",
      "LR\n",
      "{'knn': [0.9977508791809967], 'svm': [0.9994829603087757], 'lr': [0.9837260894245798]}\n",
      "Step:  1\n",
      "{'knn': [0.9977508791809967], 'svm': [0.9994829603087757], 'lr': [0.9837260894245798]}\n",
      "KNN\n"
     ],
     "name": "stdout"
    },
    {
     "output_type": "stream",
     "text": [
      "/usr/local/lib/python3.6/dist-packages/sklearn/model_selection/_validation.py:515: DataConversionWarning: A column-vector y was passed when a 1d array was expected. Please change the shape of y to (n_samples, ), for example using ravel().\n",
      "  estimator.fit(X_train, y_train, **fit_params)\n",
      "/usr/local/lib/python3.6/dist-packages/sklearn/model_selection/_validation.py:515: DataConversionWarning: A column-vector y was passed when a 1d array was expected. Please change the shape of y to (n_samples, ), for example using ravel().\n",
      "  estimator.fit(X_train, y_train, **fit_params)\n",
      "/usr/local/lib/python3.6/dist-packages/sklearn/model_selection/_validation.py:515: DataConversionWarning: A column-vector y was passed when a 1d array was expected. Please change the shape of y to (n_samples, ), for example using ravel().\n",
      "  estimator.fit(X_train, y_train, **fit_params)\n",
      "/usr/local/lib/python3.6/dist-packages/sklearn/model_selection/_validation.py:515: DataConversionWarning: A column-vector y was passed when a 1d array was expected. Please change the shape of y to (n_samples, ), for example using ravel().\n",
      "  estimator.fit(X_train, y_train, **fit_params)\n",
      "/usr/local/lib/python3.6/dist-packages/sklearn/model_selection/_validation.py:515: DataConversionWarning: A column-vector y was passed when a 1d array was expected. Please change the shape of y to (n_samples, ), for example using ravel().\n",
      "  estimator.fit(X_train, y_train, **fit_params)\n",
      "/usr/local/lib/python3.6/dist-packages/sklearn/model_selection/_validation.py:515: DataConversionWarning: A column-vector y was passed when a 1d array was expected. Please change the shape of y to (n_samples, ), for example using ravel().\n",
      "  estimator.fit(X_train, y_train, **fit_params)\n",
      "/usr/local/lib/python3.6/dist-packages/sklearn/model_selection/_validation.py:515: DataConversionWarning: A column-vector y was passed when a 1d array was expected. Please change the shape of y to (n_samples, ), for example using ravel().\n",
      "  estimator.fit(X_train, y_train, **fit_params)\n",
      "/usr/local/lib/python3.6/dist-packages/sklearn/model_selection/_validation.py:515: DataConversionWarning: A column-vector y was passed when a 1d array was expected. Please change the shape of y to (n_samples, ), for example using ravel().\n",
      "  estimator.fit(X_train, y_train, **fit_params)\n",
      "/usr/local/lib/python3.6/dist-packages/sklearn/model_selection/_validation.py:515: DataConversionWarning: A column-vector y was passed when a 1d array was expected. Please change the shape of y to (n_samples, ), for example using ravel().\n",
      "  estimator.fit(X_train, y_train, **fit_params)\n",
      "/usr/local/lib/python3.6/dist-packages/sklearn/model_selection/_validation.py:515: DataConversionWarning: A column-vector y was passed when a 1d array was expected. Please change the shape of y to (n_samples, ), for example using ravel().\n",
      "  estimator.fit(X_train, y_train, **fit_params)\n"
     ],
     "name": "stderr"
    },
    {
     "output_type": "stream",
     "text": [
      "SVM\n",
      "LR\n",
      "{'knn': [0.9977508791809967, 0.9976732979990187], 'svm': [0.9994829603087757, 0.9995217350276591], 'lr': [0.9837260894245798, 0.9836356033852829]}\n",
      "Step:  2\n",
      "{'knn': [0.9977508791809967, 0.9976732979990187], 'svm': [0.9994829603087757, 0.9995217350276591], 'lr': [0.9837260894245798, 0.9836356033852829]}\n",
      "KNN\n"
     ],
     "name": "stdout"
    },
    {
     "output_type": "stream",
     "text": [
      "/usr/local/lib/python3.6/dist-packages/sklearn/model_selection/_validation.py:515: DataConversionWarning: A column-vector y was passed when a 1d array was expected. Please change the shape of y to (n_samples, ), for example using ravel().\n",
      "  estimator.fit(X_train, y_train, **fit_params)\n",
      "/usr/local/lib/python3.6/dist-packages/sklearn/model_selection/_validation.py:515: DataConversionWarning: A column-vector y was passed when a 1d array was expected. Please change the shape of y to (n_samples, ), for example using ravel().\n",
      "  estimator.fit(X_train, y_train, **fit_params)\n",
      "/usr/local/lib/python3.6/dist-packages/sklearn/model_selection/_validation.py:515: DataConversionWarning: A column-vector y was passed when a 1d array was expected. Please change the shape of y to (n_samples, ), for example using ravel().\n",
      "  estimator.fit(X_train, y_train, **fit_params)\n",
      "/usr/local/lib/python3.6/dist-packages/sklearn/model_selection/_validation.py:515: DataConversionWarning: A column-vector y was passed when a 1d array was expected. Please change the shape of y to (n_samples, ), for example using ravel().\n",
      "  estimator.fit(X_train, y_train, **fit_params)\n",
      "/usr/local/lib/python3.6/dist-packages/sklearn/model_selection/_validation.py:515: DataConversionWarning: A column-vector y was passed when a 1d array was expected. Please change the shape of y to (n_samples, ), for example using ravel().\n",
      "  estimator.fit(X_train, y_train, **fit_params)\n",
      "/usr/local/lib/python3.6/dist-packages/sklearn/model_selection/_validation.py:515: DataConversionWarning: A column-vector y was passed when a 1d array was expected. Please change the shape of y to (n_samples, ), for example using ravel().\n",
      "  estimator.fit(X_train, y_train, **fit_params)\n",
      "/usr/local/lib/python3.6/dist-packages/sklearn/model_selection/_validation.py:515: DataConversionWarning: A column-vector y was passed when a 1d array was expected. Please change the shape of y to (n_samples, ), for example using ravel().\n",
      "  estimator.fit(X_train, y_train, **fit_params)\n",
      "/usr/local/lib/python3.6/dist-packages/sklearn/model_selection/_validation.py:515: DataConversionWarning: A column-vector y was passed when a 1d array was expected. Please change the shape of y to (n_samples, ), for example using ravel().\n",
      "  estimator.fit(X_train, y_train, **fit_params)\n",
      "/usr/local/lib/python3.6/dist-packages/sklearn/model_selection/_validation.py:515: DataConversionWarning: A column-vector y was passed when a 1d array was expected. Please change the shape of y to (n_samples, ), for example using ravel().\n",
      "  estimator.fit(X_train, y_train, **fit_params)\n",
      "/usr/local/lib/python3.6/dist-packages/sklearn/model_selection/_validation.py:515: DataConversionWarning: A column-vector y was passed when a 1d array was expected. Please change the shape of y to (n_samples, ), for example using ravel().\n",
      "  estimator.fit(X_train, y_train, **fit_params)\n"
     ],
     "name": "stderr"
    },
    {
     "output_type": "stream",
     "text": [
      "SVM\n"
     ],
     "name": "stdout"
    },
    {
     "output_type": "stream",
     "text": [
      "/usr/local/lib/python3.6/dist-packages/joblib/externals/loky/process_executor.py:706: UserWarning: A worker stopped while some jobs were given to the executor. This can be caused by a too short worker timeout or by a memory leak.\n",
      "  \"timeout or by a memory leak.\", UserWarning\n"
     ],
     "name": "stderr"
    },
    {
     "output_type": "stream",
     "text": [
      "LR\n",
      "{'knn': [0.9977508791809967, 0.9976732979990187, 0.9976732979990187], 'svm': [0.9994829603087757, 0.9995217350276591, 0.9995217350276591], 'lr': [0.9837260894245798, 0.9836356033852829, 0.9836356033852829]}\n",
      "Step:  3\n",
      "{'knn': [0.9977508791809967, 0.9976732979990187, 0.9976732979990187], 'svm': [0.9994829603087757, 0.9995217350276591, 0.9995217350276591], 'lr': [0.9837260894245798, 0.9836356033852829, 0.9836356033852829]}\n",
      "KNN\n"
     ],
     "name": "stdout"
    },
    {
     "output_type": "stream",
     "text": [
      "/usr/local/lib/python3.6/dist-packages/sklearn/model_selection/_validation.py:515: DataConversionWarning: A column-vector y was passed when a 1d array was expected. Please change the shape of y to (n_samples, ), for example using ravel().\n",
      "  estimator.fit(X_train, y_train, **fit_params)\n",
      "/usr/local/lib/python3.6/dist-packages/sklearn/model_selection/_validation.py:515: DataConversionWarning: A column-vector y was passed when a 1d array was expected. Please change the shape of y to (n_samples, ), for example using ravel().\n",
      "  estimator.fit(X_train, y_train, **fit_params)\n",
      "/usr/local/lib/python3.6/dist-packages/sklearn/model_selection/_validation.py:515: DataConversionWarning: A column-vector y was passed when a 1d array was expected. Please change the shape of y to (n_samples, ), for example using ravel().\n",
      "  estimator.fit(X_train, y_train, **fit_params)\n",
      "/usr/local/lib/python3.6/dist-packages/sklearn/model_selection/_validation.py:515: DataConversionWarning: A column-vector y was passed when a 1d array was expected. Please change the shape of y to (n_samples, ), for example using ravel().\n",
      "  estimator.fit(X_train, y_train, **fit_params)\n",
      "/usr/local/lib/python3.6/dist-packages/sklearn/model_selection/_validation.py:515: DataConversionWarning: A column-vector y was passed when a 1d array was expected. Please change the shape of y to (n_samples, ), for example using ravel().\n",
      "  estimator.fit(X_train, y_train, **fit_params)\n",
      "/usr/local/lib/python3.6/dist-packages/sklearn/model_selection/_validation.py:515: DataConversionWarning: A column-vector y was passed when a 1d array was expected. Please change the shape of y to (n_samples, ), for example using ravel().\n",
      "  estimator.fit(X_train, y_train, **fit_params)\n",
      "/usr/local/lib/python3.6/dist-packages/sklearn/model_selection/_validation.py:515: DataConversionWarning: A column-vector y was passed when a 1d array was expected. Please change the shape of y to (n_samples, ), for example using ravel().\n",
      "  estimator.fit(X_train, y_train, **fit_params)\n",
      "/usr/local/lib/python3.6/dist-packages/sklearn/model_selection/_validation.py:515: DataConversionWarning: A column-vector y was passed when a 1d array was expected. Please change the shape of y to (n_samples, ), for example using ravel().\n",
      "  estimator.fit(X_train, y_train, **fit_params)\n",
      "/usr/local/lib/python3.6/dist-packages/sklearn/model_selection/_validation.py:515: DataConversionWarning: A column-vector y was passed when a 1d array was expected. Please change the shape of y to (n_samples, ), for example using ravel().\n",
      "  estimator.fit(X_train, y_train, **fit_params)\n",
      "/usr/local/lib/python3.6/dist-packages/sklearn/model_selection/_validation.py:515: DataConversionWarning: A column-vector y was passed when a 1d array was expected. Please change the shape of y to (n_samples, ), for example using ravel().\n",
      "  estimator.fit(X_train, y_train, **fit_params)\n"
     ],
     "name": "stderr"
    },
    {
     "output_type": "stream",
     "text": [
      "SVM\n"
     ],
     "name": "stdout"
    },
    {
     "output_type": "stream",
     "text": [
      "/usr/local/lib/python3.6/dist-packages/joblib/externals/loky/process_executor.py:706: UserWarning: A worker stopped while some jobs were given to the executor. This can be caused by a too short worker timeout or by a memory leak.\n",
      "  \"timeout or by a memory leak.\", UserWarning\n"
     ],
     "name": "stderr"
    },
    {
     "output_type": "stream",
     "text": [
      "LR\n",
      "{'knn': [0.9977508791809967, 0.9976732979990187, 0.9976732979990187, 0.9976086667845546], 'svm': [0.9994829603087757, 0.9995217350276591, 0.9995217350276591, 0.9995088067798686], 'lr': [0.9837260894245798, 0.9836356033852829, 0.9836356033852829, 0.9835967635072288]}\n",
      "Step:  4\n",
      "{'knn': [0.9977508791809967, 0.9976732979990187, 0.9976732979990187, 0.9976086667845546], 'svm': [0.9994829603087757, 0.9995217350276591, 0.9995217350276591, 0.9995088067798686], 'lr': [0.9837260894245798, 0.9836356033852829, 0.9836356033852829, 0.9835967635072288]}\n",
      "KNN\n"
     ],
     "name": "stdout"
    },
    {
     "output_type": "stream",
     "text": [
      "/usr/local/lib/python3.6/dist-packages/sklearn/model_selection/_validation.py:515: DataConversionWarning: A column-vector y was passed when a 1d array was expected. Please change the shape of y to (n_samples, ), for example using ravel().\n",
      "  estimator.fit(X_train, y_train, **fit_params)\n",
      "/usr/local/lib/python3.6/dist-packages/sklearn/model_selection/_validation.py:515: DataConversionWarning: A column-vector y was passed when a 1d array was expected. Please change the shape of y to (n_samples, ), for example using ravel().\n",
      "  estimator.fit(X_train, y_train, **fit_params)\n",
      "/usr/local/lib/python3.6/dist-packages/sklearn/model_selection/_validation.py:515: DataConversionWarning: A column-vector y was passed when a 1d array was expected. Please change the shape of y to (n_samples, ), for example using ravel().\n",
      "  estimator.fit(X_train, y_train, **fit_params)\n",
      "/usr/local/lib/python3.6/dist-packages/sklearn/model_selection/_validation.py:515: DataConversionWarning: A column-vector y was passed when a 1d array was expected. Please change the shape of y to (n_samples, ), for example using ravel().\n",
      "  estimator.fit(X_train, y_train, **fit_params)\n",
      "/usr/local/lib/python3.6/dist-packages/sklearn/model_selection/_validation.py:515: DataConversionWarning: A column-vector y was passed when a 1d array was expected. Please change the shape of y to (n_samples, ), for example using ravel().\n",
      "  estimator.fit(X_train, y_train, **fit_params)\n",
      "/usr/local/lib/python3.6/dist-packages/sklearn/model_selection/_validation.py:515: DataConversionWarning: A column-vector y was passed when a 1d array was expected. Please change the shape of y to (n_samples, ), for example using ravel().\n",
      "  estimator.fit(X_train, y_train, **fit_params)\n",
      "/usr/local/lib/python3.6/dist-packages/sklearn/model_selection/_validation.py:515: DataConversionWarning: A column-vector y was passed when a 1d array was expected. Please change the shape of y to (n_samples, ), for example using ravel().\n",
      "  estimator.fit(X_train, y_train, **fit_params)\n",
      "/usr/local/lib/python3.6/dist-packages/sklearn/model_selection/_validation.py:515: DataConversionWarning: A column-vector y was passed when a 1d array was expected. Please change the shape of y to (n_samples, ), for example using ravel().\n",
      "  estimator.fit(X_train, y_train, **fit_params)\n",
      "/usr/local/lib/python3.6/dist-packages/sklearn/model_selection/_validation.py:515: DataConversionWarning: A column-vector y was passed when a 1d array was expected. Please change the shape of y to (n_samples, ), for example using ravel().\n",
      "  estimator.fit(X_train, y_train, **fit_params)\n",
      "/usr/local/lib/python3.6/dist-packages/sklearn/model_selection/_validation.py:515: DataConversionWarning: A column-vector y was passed when a 1d array was expected. Please change the shape of y to (n_samples, ), for example using ravel().\n",
      "  estimator.fit(X_train, y_train, **fit_params)\n"
     ],
     "name": "stderr"
    },
    {
     "output_type": "stream",
     "text": [
      "SVM\n"
     ],
     "name": "stdout"
    },
    {
     "output_type": "stream",
     "text": [
      "/usr/local/lib/python3.6/dist-packages/joblib/externals/loky/process_executor.py:706: UserWarning: A worker stopped while some jobs were given to the executor. This can be caused by a too short worker timeout or by a memory leak.\n",
      "  \"timeout or by a memory leak.\", UserWarning\n"
     ],
     "name": "stderr"
    },
    {
     "output_type": "stream",
     "text": [
      "LR\n",
      "{'knn': [0.9977508791809967, 0.9976732979990187, 0.9976732979990187, 0.9976086667845546, 0.9976991678605833], 'svm': [0.9994829603087757, 0.9995217350276591, 0.9995217350276591, 0.9995088067798686, 0.9994829653210197], 'lr': [0.9837260894245798, 0.9836356033852829, 0.9836356033852829, 0.9835967635072288, 0.983622651747021]}\n",
      "Step:  5\n",
      "{'knn': [0.9977508791809967, 0.9976732979990187, 0.9976732979990187, 0.9976086667845546, 0.9976991678605833], 'svm': [0.9994829603087757, 0.9995217350276591, 0.9995217350276591, 0.9995088067798686, 0.9994829653210197], 'lr': [0.9837260894245798, 0.9836356033852829, 0.9836356033852829, 0.9835967635072288, 0.983622651747021]}\n",
      "KNN\n"
     ],
     "name": "stdout"
    },
    {
     "output_type": "stream",
     "text": [
      "/usr/local/lib/python3.6/dist-packages/sklearn/model_selection/_validation.py:515: DataConversionWarning: A column-vector y was passed when a 1d array was expected. Please change the shape of y to (n_samples, ), for example using ravel().\n",
      "  estimator.fit(X_train, y_train, **fit_params)\n",
      "/usr/local/lib/python3.6/dist-packages/sklearn/model_selection/_validation.py:515: DataConversionWarning: A column-vector y was passed when a 1d array was expected. Please change the shape of y to (n_samples, ), for example using ravel().\n",
      "  estimator.fit(X_train, y_train, **fit_params)\n",
      "/usr/local/lib/python3.6/dist-packages/sklearn/model_selection/_validation.py:515: DataConversionWarning: A column-vector y was passed when a 1d array was expected. Please change the shape of y to (n_samples, ), for example using ravel().\n",
      "  estimator.fit(X_train, y_train, **fit_params)\n",
      "/usr/local/lib/python3.6/dist-packages/sklearn/model_selection/_validation.py:515: DataConversionWarning: A column-vector y was passed when a 1d array was expected. Please change the shape of y to (n_samples, ), for example using ravel().\n",
      "  estimator.fit(X_train, y_train, **fit_params)\n",
      "/usr/local/lib/python3.6/dist-packages/sklearn/model_selection/_validation.py:515: DataConversionWarning: A column-vector y was passed when a 1d array was expected. Please change the shape of y to (n_samples, ), for example using ravel().\n",
      "  estimator.fit(X_train, y_train, **fit_params)\n",
      "/usr/local/lib/python3.6/dist-packages/sklearn/model_selection/_validation.py:515: DataConversionWarning: A column-vector y was passed when a 1d array was expected. Please change the shape of y to (n_samples, ), for example using ravel().\n",
      "  estimator.fit(X_train, y_train, **fit_params)\n",
      "/usr/local/lib/python3.6/dist-packages/sklearn/model_selection/_validation.py:515: DataConversionWarning: A column-vector y was passed when a 1d array was expected. Please change the shape of y to (n_samples, ), for example using ravel().\n",
      "  estimator.fit(X_train, y_train, **fit_params)\n",
      "/usr/local/lib/python3.6/dist-packages/sklearn/model_selection/_validation.py:515: DataConversionWarning: A column-vector y was passed when a 1d array was expected. Please change the shape of y to (n_samples, ), for example using ravel().\n",
      "  estimator.fit(X_train, y_train, **fit_params)\n",
      "/usr/local/lib/python3.6/dist-packages/sklearn/model_selection/_validation.py:515: DataConversionWarning: A column-vector y was passed when a 1d array was expected. Please change the shape of y to (n_samples, ), for example using ravel().\n",
      "  estimator.fit(X_train, y_train, **fit_params)\n",
      "/usr/local/lib/python3.6/dist-packages/sklearn/model_selection/_validation.py:515: DataConversionWarning: A column-vector y was passed when a 1d array was expected. Please change the shape of y to (n_samples, ), for example using ravel().\n",
      "  estimator.fit(X_train, y_train, **fit_params)\n"
     ],
     "name": "stderr"
    },
    {
     "output_type": "stream",
     "text": [
      "SVM\n"
     ],
     "name": "stdout"
    },
    {
     "output_type": "stream",
     "text": [
      "/usr/local/lib/python3.6/dist-packages/joblib/externals/loky/process_executor.py:706: UserWarning: A worker stopped while some jobs were given to the executor. This can be caused by a too short worker timeout or by a memory leak.\n",
      "  \"timeout or by a memory leak.\", UserWarning\n"
     ],
     "name": "stderr"
    },
    {
     "output_type": "stream",
     "text": [
      "LR\n",
      "{'knn': [0.9977508791809967, 0.9976732979990187, 0.9976732979990187, 0.9976086667845546, 0.9976991678605833, 0.9976862479665327], 'svm': [0.9994829603087757, 0.9995217350276591, 0.9995217350276591, 0.9995088067798686, 0.9994829653210197, 0.9995088168043564], 'lr': [0.9837260894245798, 0.9836356033852829, 0.9836356033852829, 0.9835967635072288, 0.983622651747021, 0.9837777456103101]}\n",
      "Step:  6\n",
      "{'knn': [0.9977508791809967, 0.9976732979990187, 0.9976732979990187, 0.9976086667845546, 0.9976991678605833, 0.9976862479665327], 'svm': [0.9994829603087757, 0.9995217350276591, 0.9995217350276591, 0.9995088067798686, 0.9994829653210197, 0.9995088168043564], 'lr': [0.9837260894245798, 0.9836356033852829, 0.9836356033852829, 0.9835967635072288, 0.983622651747021, 0.9837777456103101]}\n",
      "KNN\n"
     ],
     "name": "stdout"
    },
    {
     "output_type": "stream",
     "text": [
      "/usr/local/lib/python3.6/dist-packages/sklearn/model_selection/_validation.py:515: DataConversionWarning: A column-vector y was passed when a 1d array was expected. Please change the shape of y to (n_samples, ), for example using ravel().\n",
      "  estimator.fit(X_train, y_train, **fit_params)\n",
      "/usr/local/lib/python3.6/dist-packages/sklearn/model_selection/_validation.py:515: DataConversionWarning: A column-vector y was passed when a 1d array was expected. Please change the shape of y to (n_samples, ), for example using ravel().\n",
      "  estimator.fit(X_train, y_train, **fit_params)\n",
      "/usr/local/lib/python3.6/dist-packages/sklearn/model_selection/_validation.py:515: DataConversionWarning: A column-vector y was passed when a 1d array was expected. Please change the shape of y to (n_samples, ), for example using ravel().\n",
      "  estimator.fit(X_train, y_train, **fit_params)\n",
      "/usr/local/lib/python3.6/dist-packages/sklearn/model_selection/_validation.py:515: DataConversionWarning: A column-vector y was passed when a 1d array was expected. Please change the shape of y to (n_samples, ), for example using ravel().\n",
      "  estimator.fit(X_train, y_train, **fit_params)\n",
      "/usr/local/lib/python3.6/dist-packages/sklearn/model_selection/_validation.py:515: DataConversionWarning: A column-vector y was passed when a 1d array was expected. Please change the shape of y to (n_samples, ), for example using ravel().\n",
      "  estimator.fit(X_train, y_train, **fit_params)\n",
      "/usr/local/lib/python3.6/dist-packages/sklearn/model_selection/_validation.py:515: DataConversionWarning: A column-vector y was passed when a 1d array was expected. Please change the shape of y to (n_samples, ), for example using ravel().\n",
      "  estimator.fit(X_train, y_train, **fit_params)\n",
      "/usr/local/lib/python3.6/dist-packages/sklearn/model_selection/_validation.py:515: DataConversionWarning: A column-vector y was passed when a 1d array was expected. Please change the shape of y to (n_samples, ), for example using ravel().\n",
      "  estimator.fit(X_train, y_train, **fit_params)\n",
      "/usr/local/lib/python3.6/dist-packages/sklearn/model_selection/_validation.py:515: DataConversionWarning: A column-vector y was passed when a 1d array was expected. Please change the shape of y to (n_samples, ), for example using ravel().\n",
      "  estimator.fit(X_train, y_train, **fit_params)\n",
      "/usr/local/lib/python3.6/dist-packages/sklearn/model_selection/_validation.py:515: DataConversionWarning: A column-vector y was passed when a 1d array was expected. Please change the shape of y to (n_samples, ), for example using ravel().\n",
      "  estimator.fit(X_train, y_train, **fit_params)\n",
      "/usr/local/lib/python3.6/dist-packages/sklearn/model_selection/_validation.py:515: DataConversionWarning: A column-vector y was passed when a 1d array was expected. Please change the shape of y to (n_samples, ), for example using ravel().\n",
      "  estimator.fit(X_train, y_train, **fit_params)\n"
     ],
     "name": "stderr"
    },
    {
     "output_type": "stream",
     "text": [
      "SVM\n"
     ],
     "name": "stdout"
    },
    {
     "output_type": "stream",
     "text": [
      "/usr/local/lib/python3.6/dist-packages/joblib/externals/loky/process_executor.py:706: UserWarning: A worker stopped while some jobs were given to the executor. This can be caused by a too short worker timeout or by a memory leak.\n",
      "  \"timeout or by a memory leak.\", UserWarning\n"
     ],
     "name": "stderr"
    },
    {
     "output_type": "stream",
     "text": [
      "LR\n",
      "{'knn': [0.9977508791809967, 0.9976732979990187, 0.9976732979990187, 0.9976086667845546, 0.9976991678605833, 0.9976862479665327, 0.9976991444701115], 'svm': [0.9994829603087757, 0.9995217350276591, 0.9995217350276591, 0.9995088067798686, 0.9994829653210197, 0.9995088168043564, 0.9995217316861629], 'lr': [0.9837260894245798, 0.9836356033852829, 0.9836356033852829, 0.9835967635072288, 0.983622651747021, 0.9837777456103101, 0.9835838402716824]}\n",
      "Step:  7\n",
      "{'knn': [0.9977508791809967, 0.9976732979990187, 0.9976732979990187, 0.9976086667845546, 0.9976991678605833, 0.9976862479665327, 0.9976991444701115], 'svm': [0.9994829603087757, 0.9995217350276591, 0.9995217350276591, 0.9995088067798686, 0.9994829653210197, 0.9995088168043564, 0.9995217316861629], 'lr': [0.9837260894245798, 0.9836356033852829, 0.9836356033852829, 0.9835967635072288, 0.983622651747021, 0.9837777456103101, 0.9835838402716824]}\n",
      "KNN\n"
     ],
     "name": "stdout"
    },
    {
     "output_type": "stream",
     "text": [
      "/usr/local/lib/python3.6/dist-packages/sklearn/model_selection/_validation.py:515: DataConversionWarning: A column-vector y was passed when a 1d array was expected. Please change the shape of y to (n_samples, ), for example using ravel().\n",
      "  estimator.fit(X_train, y_train, **fit_params)\n",
      "/usr/local/lib/python3.6/dist-packages/sklearn/model_selection/_validation.py:515: DataConversionWarning: A column-vector y was passed when a 1d array was expected. Please change the shape of y to (n_samples, ), for example using ravel().\n",
      "  estimator.fit(X_train, y_train, **fit_params)\n",
      "/usr/local/lib/python3.6/dist-packages/sklearn/model_selection/_validation.py:515: DataConversionWarning: A column-vector y was passed when a 1d array was expected. Please change the shape of y to (n_samples, ), for example using ravel().\n",
      "  estimator.fit(X_train, y_train, **fit_params)\n",
      "/usr/local/lib/python3.6/dist-packages/sklearn/model_selection/_validation.py:515: DataConversionWarning: A column-vector y was passed when a 1d array was expected. Please change the shape of y to (n_samples, ), for example using ravel().\n",
      "  estimator.fit(X_train, y_train, **fit_params)\n",
      "/usr/local/lib/python3.6/dist-packages/sklearn/model_selection/_validation.py:515: DataConversionWarning: A column-vector y was passed when a 1d array was expected. Please change the shape of y to (n_samples, ), for example using ravel().\n",
      "  estimator.fit(X_train, y_train, **fit_params)\n",
      "/usr/local/lib/python3.6/dist-packages/sklearn/model_selection/_validation.py:515: DataConversionWarning: A column-vector y was passed when a 1d array was expected. Please change the shape of y to (n_samples, ), for example using ravel().\n",
      "  estimator.fit(X_train, y_train, **fit_params)\n",
      "/usr/local/lib/python3.6/dist-packages/sklearn/model_selection/_validation.py:515: DataConversionWarning: A column-vector y was passed when a 1d array was expected. Please change the shape of y to (n_samples, ), for example using ravel().\n",
      "  estimator.fit(X_train, y_train, **fit_params)\n",
      "/usr/local/lib/python3.6/dist-packages/sklearn/model_selection/_validation.py:515: DataConversionWarning: A column-vector y was passed when a 1d array was expected. Please change the shape of y to (n_samples, ), for example using ravel().\n",
      "  estimator.fit(X_train, y_train, **fit_params)\n",
      "/usr/local/lib/python3.6/dist-packages/sklearn/model_selection/_validation.py:515: DataConversionWarning: A column-vector y was passed when a 1d array was expected. Please change the shape of y to (n_samples, ), for example using ravel().\n",
      "  estimator.fit(X_train, y_train, **fit_params)\n",
      "/usr/local/lib/python3.6/dist-packages/sklearn/model_selection/_validation.py:515: DataConversionWarning: A column-vector y was passed when a 1d array was expected. Please change the shape of y to (n_samples, ), for example using ravel().\n",
      "  estimator.fit(X_train, y_train, **fit_params)\n"
     ],
     "name": "stderr"
    },
    {
     "output_type": "stream",
     "text": [
      "SVM\n"
     ],
     "name": "stdout"
    },
    {
     "output_type": "stream",
     "text": [
      "/usr/local/lib/python3.6/dist-packages/joblib/externals/loky/process_executor.py:706: UserWarning: A worker stopped while some jobs were given to the executor. This can be caused by a too short worker timeout or by a memory leak.\n",
      "  \"timeout or by a memory leak.\", UserWarning\n"
     ],
     "name": "stderr"
    },
    {
     "output_type": "stream",
     "text": [
      "LR\n",
      "{'knn': [0.9977508791809967, 0.9976732979990187, 0.9976732979990187, 0.9976086667845546, 0.9976991678605833, 0.9976862479665327, 0.9976991444701115, 0.997647444844934], 'svm': [0.9994829603087757, 0.9995217350276591, 0.9995217350276591, 0.9995088067798686, 0.9994829653210197, 0.9995088168043564, 0.9995217316861629, 0.9995088017676247], 'lr': [0.9837260894245798, 0.9836356033852829, 0.9836356033852829, 0.9835967635072288, 0.983622651747021, 0.9837777456103101, 0.9835838402716824, 0.9836614431733841]}\n",
      "Step:  8\n",
      "{'knn': [0.9977508791809967, 0.9976732979990187, 0.9976732979990187, 0.9976086667845546, 0.9976991678605833, 0.9976862479665327, 0.9976991444701115, 0.997647444844934], 'svm': [0.9994829603087757, 0.9995217350276591, 0.9995217350276591, 0.9995088067798686, 0.9994829653210197, 0.9995088168043564, 0.9995217316861629, 0.9995088017676247], 'lr': [0.9837260894245798, 0.9836356033852829, 0.9836356033852829, 0.9835967635072288, 0.983622651747021, 0.9837777456103101, 0.9835838402716824, 0.9836614431733841]}\n",
      "KNN\n"
     ],
     "name": "stdout"
    },
    {
     "output_type": "stream",
     "text": [
      "/usr/local/lib/python3.6/dist-packages/sklearn/model_selection/_validation.py:515: DataConversionWarning: A column-vector y was passed when a 1d array was expected. Please change the shape of y to (n_samples, ), for example using ravel().\n",
      "  estimator.fit(X_train, y_train, **fit_params)\n",
      "/usr/local/lib/python3.6/dist-packages/sklearn/model_selection/_validation.py:515: DataConversionWarning: A column-vector y was passed when a 1d array was expected. Please change the shape of y to (n_samples, ), for example using ravel().\n",
      "  estimator.fit(X_train, y_train, **fit_params)\n",
      "/usr/local/lib/python3.6/dist-packages/sklearn/model_selection/_validation.py:515: DataConversionWarning: A column-vector y was passed when a 1d array was expected. Please change the shape of y to (n_samples, ), for example using ravel().\n",
      "  estimator.fit(X_train, y_train, **fit_params)\n",
      "/usr/local/lib/python3.6/dist-packages/sklearn/model_selection/_validation.py:515: DataConversionWarning: A column-vector y was passed when a 1d array was expected. Please change the shape of y to (n_samples, ), for example using ravel().\n",
      "  estimator.fit(X_train, y_train, **fit_params)\n",
      "/usr/local/lib/python3.6/dist-packages/sklearn/model_selection/_validation.py:515: DataConversionWarning: A column-vector y was passed when a 1d array was expected. Please change the shape of y to (n_samples, ), for example using ravel().\n",
      "  estimator.fit(X_train, y_train, **fit_params)\n",
      "/usr/local/lib/python3.6/dist-packages/sklearn/model_selection/_validation.py:515: DataConversionWarning: A column-vector y was passed when a 1d array was expected. Please change the shape of y to (n_samples, ), for example using ravel().\n",
      "  estimator.fit(X_train, y_train, **fit_params)\n",
      "/usr/local/lib/python3.6/dist-packages/sklearn/model_selection/_validation.py:515: DataConversionWarning: A column-vector y was passed when a 1d array was expected. Please change the shape of y to (n_samples, ), for example using ravel().\n",
      "  estimator.fit(X_train, y_train, **fit_params)\n",
      "/usr/local/lib/python3.6/dist-packages/sklearn/model_selection/_validation.py:515: DataConversionWarning: A column-vector y was passed when a 1d array was expected. Please change the shape of y to (n_samples, ), for example using ravel().\n",
      "  estimator.fit(X_train, y_train, **fit_params)\n",
      "/usr/local/lib/python3.6/dist-packages/sklearn/model_selection/_validation.py:515: DataConversionWarning: A column-vector y was passed when a 1d array was expected. Please change the shape of y to (n_samples, ), for example using ravel().\n",
      "  estimator.fit(X_train, y_train, **fit_params)\n",
      "/usr/local/lib/python3.6/dist-packages/sklearn/model_selection/_validation.py:515: DataConversionWarning: A column-vector y was passed when a 1d array was expected. Please change the shape of y to (n_samples, ), for example using ravel().\n",
      "  estimator.fit(X_train, y_train, **fit_params)\n"
     ],
     "name": "stderr"
    },
    {
     "output_type": "stream",
     "text": [
      "SVM\n",
      "LR\n",
      "{'knn': [0.9977508791809967, 0.9976732979990187, 0.9976732979990187, 0.9976086667845546, 0.9976991678605833, 0.9976862479665327, 0.9976991444701115, 0.997647444844934, 0.9976603647389843], 'svm': [0.9994829603087757, 0.9995217350276591, 0.9995217350276591, 0.9995088067798686, 0.9994829653210197, 0.9995088168043564, 0.9995217316861629, 0.9995088017676247, 0.9995346532509615], 'lr': [0.9837260894245798, 0.9836356033852829, 0.9836356033852829, 0.9835967635072288, 0.983622651747021, 0.9837777456103101, 0.9835838402716824, 0.9836614431733841, 0.9835968253249036]}\n",
      "Step:  9\n",
      "{'knn': [0.9977508791809967, 0.9976732979990187, 0.9976732979990187, 0.9976086667845546, 0.9976991678605833, 0.9976862479665327, 0.9976991444701115, 0.997647444844934, 0.9976603647389843], 'svm': [0.9994829603087757, 0.9995217350276591, 0.9995217350276591, 0.9995088067798686, 0.9994829653210197, 0.9995088168043564, 0.9995217316861629, 0.9995088017676247, 0.9995346532509615], 'lr': [0.9837260894245798, 0.9836356033852829, 0.9836356033852829, 0.9835967635072288, 0.983622651747021, 0.9837777456103101, 0.9835838402716824, 0.9836614431733841, 0.9835968253249036]}\n",
      "KNN\n"
     ],
     "name": "stdout"
    },
    {
     "output_type": "stream",
     "text": [
      "/usr/local/lib/python3.6/dist-packages/sklearn/model_selection/_validation.py:515: DataConversionWarning: A column-vector y was passed when a 1d array was expected. Please change the shape of y to (n_samples, ), for example using ravel().\n",
      "  estimator.fit(X_train, y_train, **fit_params)\n",
      "/usr/local/lib/python3.6/dist-packages/sklearn/model_selection/_validation.py:515: DataConversionWarning: A column-vector y was passed when a 1d array was expected. Please change the shape of y to (n_samples, ), for example using ravel().\n",
      "  estimator.fit(X_train, y_train, **fit_params)\n",
      "/usr/local/lib/python3.6/dist-packages/sklearn/model_selection/_validation.py:515: DataConversionWarning: A column-vector y was passed when a 1d array was expected. Please change the shape of y to (n_samples, ), for example using ravel().\n",
      "  estimator.fit(X_train, y_train, **fit_params)\n",
      "/usr/local/lib/python3.6/dist-packages/sklearn/model_selection/_validation.py:515: DataConversionWarning: A column-vector y was passed when a 1d array was expected. Please change the shape of y to (n_samples, ), for example using ravel().\n",
      "  estimator.fit(X_train, y_train, **fit_params)\n",
      "/usr/local/lib/python3.6/dist-packages/sklearn/model_selection/_validation.py:515: DataConversionWarning: A column-vector y was passed when a 1d array was expected. Please change the shape of y to (n_samples, ), for example using ravel().\n",
      "  estimator.fit(X_train, y_train, **fit_params)\n",
      "/usr/local/lib/python3.6/dist-packages/sklearn/model_selection/_validation.py:515: DataConversionWarning: A column-vector y was passed when a 1d array was expected. Please change the shape of y to (n_samples, ), for example using ravel().\n",
      "  estimator.fit(X_train, y_train, **fit_params)\n",
      "/usr/local/lib/python3.6/dist-packages/sklearn/model_selection/_validation.py:515: DataConversionWarning: A column-vector y was passed when a 1d array was expected. Please change the shape of y to (n_samples, ), for example using ravel().\n",
      "  estimator.fit(X_train, y_train, **fit_params)\n",
      "/usr/local/lib/python3.6/dist-packages/sklearn/model_selection/_validation.py:515: DataConversionWarning: A column-vector y was passed when a 1d array was expected. Please change the shape of y to (n_samples, ), for example using ravel().\n",
      "  estimator.fit(X_train, y_train, **fit_params)\n",
      "/usr/local/lib/python3.6/dist-packages/sklearn/model_selection/_validation.py:515: DataConversionWarning: A column-vector y was passed when a 1d array was expected. Please change the shape of y to (n_samples, ), for example using ravel().\n",
      "  estimator.fit(X_train, y_train, **fit_params)\n",
      "/usr/local/lib/python3.6/dist-packages/sklearn/model_selection/_validation.py:515: DataConversionWarning: A column-vector y was passed when a 1d array was expected. Please change the shape of y to (n_samples, ), for example using ravel().\n",
      "  estimator.fit(X_train, y_train, **fit_params)\n"
     ],
     "name": "stderr"
    },
    {
     "output_type": "stream",
     "text": [
      "SVM\n"
     ],
     "name": "stdout"
    },
    {
     "output_type": "stream",
     "text": [
      "/usr/local/lib/python3.6/dist-packages/joblib/externals/loky/process_executor.py:706: UserWarning: A worker stopped while some jobs were given to the executor. This can be caused by a too short worker timeout or by a memory leak.\n",
      "  \"timeout or by a memory leak.\", UserWarning\n"
     ],
     "name": "stderr"
    },
    {
     "output_type": "stream",
     "text": [
      "LR\n",
      "{'knn': [0.9977508791809967, 0.9976732979990187, 0.9976732979990187, 0.9976086667845546, 0.9976991678605833, 0.9976862479665327, 0.9976991444701115, 0.997647444844934, 0.9976603647389843, 0.9976086717967988], 'svm': [0.9994829603087757, 0.9995217350276591, 0.9995217350276591, 0.9995088067798686, 0.9994829653210197, 0.9995088168043564, 0.9995217316861629, 0.9995088017676247, 0.9995346532509615, 0.9994700287194893], 'lr': [0.9837260894245798, 0.9836356033852829, 0.9836356033852829, 0.9835967635072288, 0.983622651747021, 0.9837777456103101, 0.9835838402716824, 0.9836614431733841, 0.9835968253249036, 0.9835967568242369]}\n"
     ],
     "name": "stdout"
    }
   ]
  },
  {
   "cell_type": "markdown",
   "metadata": {
    "id": "fJVHkgYLbpA9",
    "colab_type": "text"
   },
   "source": [
    "### Boxplot"
   ]
  },
  {
   "cell_type": "code",
   "metadata": {
    "scrolled": true,
    "id": "xXm35ZG5bpA-",
    "colab_type": "code",
    "outputId": "ce2bb946-8286-487c-d294-19e46cf07924",
    "executionInfo": {
     "status": "ok",
     "timestamp": 1589274954620,
     "user_tz": -270,
     "elapsed": 1492,
     "user": {
      "displayName": "Fereshteh Zargaran",
      "photoUrl": "https://lh3.googleusercontent.com/a-/AOh14GjrmC1zfVwCEVT132MOlEJfj1XqVkihDOVuzyc7lg=s64",
      "userId": "07497554535860146577"
     }
    },
    "colab": {
     "base_uri": "https://localhost:8080/",
     "height": 356
    }
   },
   "source": [
    "bp = pd.DataFrame([means['knn'], means['svm'], means['lr']]).T\n",
    "bp = bp.rename({0: 'KNN', 1: 'SVM', 2: 'LR'}, axis=1)\n",
    "bp"
   ],
   "execution_count": 11,
   "outputs": [
    {
     "output_type": "execute_result",
     "data": {
      "text/html": [
       "<div>\n",
       "<style scoped>\n",
       "    .dataframe tbody tr th:only-of-type {\n",
       "        vertical-align: middle;\n",
       "    }\n",
       "\n",
       "    .dataframe tbody tr th {\n",
       "        vertical-align: top;\n",
       "    }\n",
       "\n",
       "    .dataframe thead th {\n",
       "        text-align: right;\n",
       "    }\n",
       "</style>\n",
       "<table border=\"1\" class=\"dataframe\">\n",
       "  <thead>\n",
       "    <tr style=\"text-align: right;\">\n",
       "      <th></th>\n",
       "      <th>KNN</th>\n",
       "      <th>SVM</th>\n",
       "      <th>LR</th>\n",
       "    </tr>\n",
       "  </thead>\n",
       "  <tbody>\n",
       "    <tr>\n",
       "      <th>0</th>\n",
       "      <td>0.997751</td>\n",
       "      <td>0.999483</td>\n",
       "      <td>0.983726</td>\n",
       "    </tr>\n",
       "    <tr>\n",
       "      <th>1</th>\n",
       "      <td>0.997673</td>\n",
       "      <td>0.999522</td>\n",
       "      <td>0.983636</td>\n",
       "    </tr>\n",
       "    <tr>\n",
       "      <th>2</th>\n",
       "      <td>0.997673</td>\n",
       "      <td>0.999522</td>\n",
       "      <td>0.983636</td>\n",
       "    </tr>\n",
       "    <tr>\n",
       "      <th>3</th>\n",
       "      <td>0.997609</td>\n",
       "      <td>0.999509</td>\n",
       "      <td>0.983597</td>\n",
       "    </tr>\n",
       "    <tr>\n",
       "      <th>4</th>\n",
       "      <td>0.997699</td>\n",
       "      <td>0.999483</td>\n",
       "      <td>0.983623</td>\n",
       "    </tr>\n",
       "    <tr>\n",
       "      <th>5</th>\n",
       "      <td>0.997686</td>\n",
       "      <td>0.999509</td>\n",
       "      <td>0.983778</td>\n",
       "    </tr>\n",
       "    <tr>\n",
       "      <th>6</th>\n",
       "      <td>0.997699</td>\n",
       "      <td>0.999522</td>\n",
       "      <td>0.983584</td>\n",
       "    </tr>\n",
       "    <tr>\n",
       "      <th>7</th>\n",
       "      <td>0.997647</td>\n",
       "      <td>0.999509</td>\n",
       "      <td>0.983661</td>\n",
       "    </tr>\n",
       "    <tr>\n",
       "      <th>8</th>\n",
       "      <td>0.997660</td>\n",
       "      <td>0.999535</td>\n",
       "      <td>0.983597</td>\n",
       "    </tr>\n",
       "    <tr>\n",
       "      <th>9</th>\n",
       "      <td>0.997609</td>\n",
       "      <td>0.999470</td>\n",
       "      <td>0.983597</td>\n",
       "    </tr>\n",
       "  </tbody>\n",
       "</table>\n",
       "</div>"
      ],
      "text/plain": [
       "        KNN       SVM        LR\n",
       "0  0.997751  0.999483  0.983726\n",
       "1  0.997673  0.999522  0.983636\n",
       "2  0.997673  0.999522  0.983636\n",
       "3  0.997609  0.999509  0.983597\n",
       "4  0.997699  0.999483  0.983623\n",
       "5  0.997686  0.999509  0.983778\n",
       "6  0.997699  0.999522  0.983584\n",
       "7  0.997647  0.999509  0.983661\n",
       "8  0.997660  0.999535  0.983597\n",
       "9  0.997609  0.999470  0.983597"
      ]
     },
     "metadata": {
      "tags": []
     },
     "execution_count": 11
    }
   ]
  },
  {
   "cell_type": "code",
   "metadata": {
    "id": "nE-JGldsbpBJ",
    "colab_type": "code",
    "outputId": "0009548f-12b2-4e6b-cfb5-2defdf2ec24e",
    "executionInfo": {
     "status": "ok",
     "timestamp": 1589274954624,
     "user_tz": -270,
     "elapsed": 1457,
     "user": {
      "displayName": "Fereshteh Zargaran",
      "photoUrl": "https://lh3.googleusercontent.com/a-/AOh14GjrmC1zfVwCEVT132MOlEJfj1XqVkihDOVuzyc7lg=s64",
      "userId": "07497554535860146577"
     }
    },
    "colab": {
     "base_uri": "https://localhost:8080/",
     "height": 614
    }
   },
   "source": [
    "g = sns.boxplot(data=bp)\n",
    "g.set_title('Acuracy- Models', fontdict=fontdict);"
   ],
   "execution_count": 12,
   "outputs": [
    {
     "output_type": "display_data",
     "data": {
      "image/png": "[encoded data removed]",
      "text/plain": [
       "<Figure size 1080x720 with 1 Axes>"
      ]
     },
     "metadata": {
      "tags": []
     }
    }
   ]
  }
 ]
}